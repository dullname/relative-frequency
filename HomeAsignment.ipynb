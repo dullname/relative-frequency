{
 "cells": [
  {
   "cell_type": "markdown",
   "metadata": {},
   "source": [
    "<h1 align=\"center\">HA #1 Report on choosing dataset</h1>"
   ]
  },
  {
   "cell_type": "markdown",
   "metadata": {},
   "source": [
    "**Dataset history**\n",
    "\n",
    "The dataset comes from a 1994 study about the population biology of blacklip abalone (Haliotis rubra) from the North Coast and Islands of Bass Strait. It was published to the UCI Machine Learning Repository in 1995 by Sam Waugh from the Department of Computer Science at the University of Tasmania (Australia). The original dataset was modified by removing objects with missing values and scaling continuous values by dividing by 200. \n",
    "\n",
    "**Relevant information paragraph**\n",
    "\n",
    "The general problem of the dataset is the age (and thus count of rings) prediction of the abalone using its phisical measurements. In order to get the age of abalone the scientist should cut the shell through the cone at first, stain it and then count up its rings using microscope. Thereby it is time-consuming and definitely dull task. In that case the problem is sufficiently substantial. \n",
    "So, the principal reason I choose this dataset is its striking canonicity. Saying that I mean there are both nominal and real valued features, the amount of features and objects is good enought and, in addition, there is absence of missing data. Thus, the abalone dataset is highly prepared and comfortable for educational purpose. So, I hope I will be enjoy working on that though my Core Data Analysis course. It is clear. It is pleasant to calculate. So I suppose it is like Dostoevsky in Russian literature or Van Gogh art, it is a kind of Computer Science genre classics. That is why I choose the ablone dataset. \n",
    "   \n",
    "**Explanation of the data (Attributes)**\n",
    "\n",
    "There are 8 features. Next I will descrbe them all with its accepted values. \n",
    "Sex is the nominal feature with the value from the set {M, F, I(infant)}.\n",
    "All next features were scaled by dividing by 200.\n",
    "Length feature is the longest shell measurement which takes values from the interval (0.075, 0.815).\n",
    "Diameter is a continuous feature which is perpendicular to length. Its values are from 0.055 to 0.650.\n",
    "Height is the vertical shell measurement with meat in particular. \n",
    "Whole weight (whole_w in table) is an abalon's full weight with the value from 0.002 to 2.826. Cognitively to note that the black abalone has sufficiently large mass. Sometimes it reaches up to 565 grams and more.\n",
    "Shucked weight is the meat mass measurement (without the shell, which is logical). Shucked_w's values are between 0.001 and 1.488 (which is 0.2 and 297.6 grams, respectively, in original dataset).\n",
    "The Viscera weight comes after the bleeding, so it is a gut weight taking values from 0.001 to 0.760 (grams dividing by 200).\n",
    "Next measurement is a shell mass after being dried, which is important to note, because of the fact that similar abalones can collect significantly different amount of water.\n",
    "And the target variable is a rings count what refers to the age by adding 1.5 year for each ring.\n",
    "\n",
    "There are 4177 instances with 8 features\n",
    "\n",
    "The dataset is located in \"abalone.csv\" file. Each string means 1 object with features separating by \",\" symbol.\n",
    "\n",
    "**Statistics additionals**\n",
    "\n",
    "The following table shows some statistic information like mean and standart diviation.\n",
    "\n",
    "\n",
    "           Length   Diam     Height   Whole    Shucked  Viscera  Shell    Rings\n",
    "    Mean   0.524\t0.408\t0.140\t0.829\t0.359\t0.181\t0.239\t9.934\n",
    "\tSD\t 0.120\t0.099\t0.042\t0.490\t0.222\t0.110\t0.139\t3.224\n",
    "\n",
    "\n",
    "Finally, a few words about the **technologies** I use.\n",
    "\n",
    "Core language is python v3.4.\n",
    "Pandas is the python's module for visualization and simple data processing.\n",
    "I use numpy for comfortable matrix operations and matplotlib for a graphical representation of data.\n",
    "In the end, sklearn python module is a powerful set of the most common machine learning tackle including the regression.\n",
    "\n",
    "Next, I will try to comment on the nontrivial areas to clarify the situation.\n",
    "\n"
   ]
  },
  {
   "cell_type": "markdown",
   "metadata": {},
   "source": [
    "<h1 align=\"center\">HA #2 Gaussian, 95% confidence interval, bootstrap for the distribution of the\n",
    "mean</h1>"
   ]
  },
  {
   "cell_type": "code",
   "execution_count": 1,
   "metadata": {
    "collapsed": false
   },
   "outputs": [],
   "source": [
    "import warnings\n",
    "warnings.filterwarnings('ignore')\n",
    "import sys\n",
    "import itertools\n",
    "import pandas as pd\n",
    "import numpy as np\n",
    "import math\n",
    "import matplotlib.pyplot as plt\n",
    "from random import randint \n",
    "%matplotlib inline\n",
    "from sklearn.model_selection import KFold\n",
    "from sklearn.metrics import accuracy_score, precision_score, recall_score, confusion_matrix\n",
    "from sklearn.cluster import KMeans"
   ]
  },
  {
   "cell_type": "code",
   "execution_count": 2,
   "metadata": {
    "collapsed": false
   },
   "outputs": [
    {
     "data": {
      "text/html": [
       "<div>\n",
       "<table border=\"1\" class=\"dataframe\">\n",
       "  <thead>\n",
       "    <tr style=\"text-align: right;\">\n",
       "      <th></th>\n",
       "      <th>Sex</th>\n",
       "      <th>Length</th>\n",
       "      <th>Diameter</th>\n",
       "      <th>Height</th>\n",
       "      <th>Whole_w</th>\n",
       "      <th>Shucked_w</th>\n",
       "      <th>Viscera_w</th>\n",
       "      <th>Shell_w</th>\n",
       "      <th>Rings</th>\n",
       "    </tr>\n",
       "  </thead>\n",
       "  <tbody>\n",
       "    <tr>\n",
       "      <th>0</th>\n",
       "      <td>M</td>\n",
       "      <td>0.455</td>\n",
       "      <td>0.365</td>\n",
       "      <td>0.095</td>\n",
       "      <td>0.5140</td>\n",
       "      <td>0.2245</td>\n",
       "      <td>0.1010</td>\n",
       "      <td>0.150</td>\n",
       "      <td>15</td>\n",
       "    </tr>\n",
       "    <tr>\n",
       "      <th>1</th>\n",
       "      <td>M</td>\n",
       "      <td>0.350</td>\n",
       "      <td>0.265</td>\n",
       "      <td>0.090</td>\n",
       "      <td>0.2255</td>\n",
       "      <td>0.0995</td>\n",
       "      <td>0.0485</td>\n",
       "      <td>0.070</td>\n",
       "      <td>7</td>\n",
       "    </tr>\n",
       "    <tr>\n",
       "      <th>2</th>\n",
       "      <td>F</td>\n",
       "      <td>0.530</td>\n",
       "      <td>0.420</td>\n",
       "      <td>0.135</td>\n",
       "      <td>0.6770</td>\n",
       "      <td>0.2565</td>\n",
       "      <td>0.1415</td>\n",
       "      <td>0.210</td>\n",
       "      <td>9</td>\n",
       "    </tr>\n",
       "    <tr>\n",
       "      <th>3</th>\n",
       "      <td>M</td>\n",
       "      <td>0.440</td>\n",
       "      <td>0.365</td>\n",
       "      <td>0.125</td>\n",
       "      <td>0.5160</td>\n",
       "      <td>0.2155</td>\n",
       "      <td>0.1140</td>\n",
       "      <td>0.155</td>\n",
       "      <td>10</td>\n",
       "    </tr>\n",
       "    <tr>\n",
       "      <th>4</th>\n",
       "      <td>I</td>\n",
       "      <td>0.330</td>\n",
       "      <td>0.255</td>\n",
       "      <td>0.080</td>\n",
       "      <td>0.2050</td>\n",
       "      <td>0.0895</td>\n",
       "      <td>0.0395</td>\n",
       "      <td>0.055</td>\n",
       "      <td>7</td>\n",
       "    </tr>\n",
       "    <tr>\n",
       "      <th>5</th>\n",
       "      <td>I</td>\n",
       "      <td>0.425</td>\n",
       "      <td>0.300</td>\n",
       "      <td>0.095</td>\n",
       "      <td>0.3515</td>\n",
       "      <td>0.1410</td>\n",
       "      <td>0.0775</td>\n",
       "      <td>0.120</td>\n",
       "      <td>8</td>\n",
       "    </tr>\n",
       "    <tr>\n",
       "      <th>6</th>\n",
       "      <td>F</td>\n",
       "      <td>0.530</td>\n",
       "      <td>0.415</td>\n",
       "      <td>0.150</td>\n",
       "      <td>0.7775</td>\n",
       "      <td>0.2370</td>\n",
       "      <td>0.1415</td>\n",
       "      <td>0.330</td>\n",
       "      <td>20</td>\n",
       "    </tr>\n",
       "    <tr>\n",
       "      <th>7</th>\n",
       "      <td>F</td>\n",
       "      <td>0.545</td>\n",
       "      <td>0.425</td>\n",
       "      <td>0.125</td>\n",
       "      <td>0.7680</td>\n",
       "      <td>0.2940</td>\n",
       "      <td>0.1495</td>\n",
       "      <td>0.260</td>\n",
       "      <td>16</td>\n",
       "    </tr>\n",
       "    <tr>\n",
       "      <th>8</th>\n",
       "      <td>M</td>\n",
       "      <td>0.475</td>\n",
       "      <td>0.370</td>\n",
       "      <td>0.125</td>\n",
       "      <td>0.5095</td>\n",
       "      <td>0.2165</td>\n",
       "      <td>0.1125</td>\n",
       "      <td>0.165</td>\n",
       "      <td>9</td>\n",
       "    </tr>\n",
       "    <tr>\n",
       "      <th>9</th>\n",
       "      <td>F</td>\n",
       "      <td>0.550</td>\n",
       "      <td>0.440</td>\n",
       "      <td>0.150</td>\n",
       "      <td>0.8945</td>\n",
       "      <td>0.3145</td>\n",
       "      <td>0.1510</td>\n",
       "      <td>0.320</td>\n",
       "      <td>19</td>\n",
       "    </tr>\n",
       "  </tbody>\n",
       "</table>\n",
       "</div>"
      ],
      "text/plain": [
       "  Sex  Length  Diameter  Height  Whole_w  Shucked_w  Viscera_w  Shell_w  Rings\n",
       "0   M   0.455     0.365   0.095   0.5140     0.2245     0.1010    0.150     15\n",
       "1   M   0.350     0.265   0.090   0.2255     0.0995     0.0485    0.070      7\n",
       "2   F   0.530     0.420   0.135   0.6770     0.2565     0.1415    0.210      9\n",
       "3   M   0.440     0.365   0.125   0.5160     0.2155     0.1140    0.155     10\n",
       "4   I   0.330     0.255   0.080   0.2050     0.0895     0.0395    0.055      7\n",
       "5   I   0.425     0.300   0.095   0.3515     0.1410     0.0775    0.120      8\n",
       "6   F   0.530     0.415   0.150   0.7775     0.2370     0.1415    0.330     20\n",
       "7   F   0.545     0.425   0.125   0.7680     0.2940     0.1495    0.260     16\n",
       "8   M   0.475     0.370   0.125   0.5095     0.2165     0.1125    0.165      9\n",
       "9   F   0.550     0.440   0.150   0.8945     0.3145     0.1510    0.320     19"
      ]
     },
     "execution_count": 2,
     "metadata": {},
     "output_type": "execute_result"
    }
   ],
   "source": [
    "pass_data = pd.read_csv('abalone.csv', header=None)\n",
    "pass_data.columns = ['Sex', 'Length', 'Diameter', 'Height', 'Whole_w', 'Shucked_w', 'Viscera_w', 'Shell_w', 'Rings']\n",
    "pass_data.head(10) #there is data sample"
   ]
  },
  {
   "cell_type": "markdown",
   "metadata": {},
   "source": [
    "i form two groups of abalones consist of 100 elements each and analyse its \"diameter\" feature as x "
   ]
  },
  {
   "cell_type": "code",
   "execution_count": 4,
   "metadata": {
    "collapsed": false
   },
   "outputs": [
    {
     "name": "stdout",
     "output_type": "stream",
     "text": [
      "mean of the first group 0.3948 | mean of the second group 0.4009\n"
     ]
    }
   ],
   "source": [
    "ab_diams1 = np.array(list(pass_data[\"Diameter\"][:100]), dtype=float)\n",
    "ab_diams2 = np.array(list(pass_data[\"Diameter\"][100:200]), dtype=float)\n",
    "print(\"mean of the first group\", ab_diams1.mean(), \"|\", \"mean of the second group\", ab_diams2.mean())"
   ]
  },
  {
   "cell_type": "code",
   "execution_count": 5,
   "metadata": {
    "collapsed": false
   },
   "outputs": [
    {
     "data": {
      "image/png": "[encoded data removed]",
      "text/plain": [
       "<matplotlib.figure.Figure at 0x7f872388c278>"
      ]
     },
     "metadata": {},
     "output_type": "display_data"
    }
   ],
   "source": [
    "plt.figure(figsize=(12, 5))\n",
    "plt.subplot(121)\n",
    "plt.xlabel(\"GROUP 1\")\n",
    "bins1 = plt.hist(ab_diams1, 30, normed=1, facecolor='red', alpha=1)\n",
    "\n",
    "plt.subplot(122)\n",
    "plt.xlabel(\"GROUP 2\")\n",
    "bins1 = plt.hist(ab_diams2, 30, normed=1, facecolor='red', alpha=1)\n"
   ]
  },
  {
   "cell_type": "markdown",
   "metadata": {},
   "source": [
    "the question (it arose from the comparison of the means): whether snails in the second group have more wide shells in average than in the second or not? It is not clear from the graphs. Let's check it using bootstrap (i form 2 groups of vectors(5000 each) of abalones shell diameters with the length of 100 randomly from the first and second groups and then analyse the density func of difference with means in diam5000_1 and diam5000_2). We can do it thanks to central limit theorem (there are groups of 5000 independent mean values which limit to Gaussian function)"
   ]
  },
  {
   "cell_type": "code",
   "execution_count": 6,
   "metadata": {
    "collapsed": false,
    "scrolled": false
   },
   "outputs": [],
   "source": [
    "diam5000_1 = np.array([[ab_diams1[randint(0, 99)] for i in range(100)] for j in range(5000)], dtype=float)\n",
    "diam5000_2 = np.array([[ab_diams2[randint(0, 99)] for i in range(100)] for j in range(5000)], dtype=float)\n",
    "means5000_1 = np.array([diam5000_1[i].mean() for i in range(5000)])\n",
    "means5000_2 = np.array([diam5000_2[i].mean() for i in range(5000)])\n",
    "mean5000_1 = means5000_1.mean()\n",
    "mean5000_2 = means5000_2.mean()\n",
    "std5000_1 = means5000_1.std()\n",
    "std5000_2 = means5000_2.std()\n"
   ]
  },
  {
   "cell_type": "code",
   "execution_count": 7,
   "metadata": {
    "collapsed": false
   },
   "outputs": [
    {
     "data": {
      "image/png": "[encoded data removed]",
      "text/plain": [
       "<matplotlib.figure.Figure at 0x7f87213b7978>"
      ]
     },
     "metadata": {},
     "output_type": "display_data"
    }
   ],
   "source": [
    "\n",
    "plt.figure(figsize=(12, 5))\n",
    "plt.subplot(121)\n",
    "plt.xlabel(\"M = \" + str(mean5000_1) + \" std = \" + str(std5000_1))\n",
    "bins1 = plt.hist(means5000_1, 30, normed=1, facecolor='red', alpha=1)\n",
    "\n",
    "plt.subplot(122)\n",
    "plt.xlabel(\"M = \" + str(mean5000_2) + \" std = \" + str(std5000_2))\n",
    "bins2 = plt.hist(means5000_2, 30, normed=1, facecolor='red', alpha=1)"
   ]
  },
  {
   "cell_type": "code",
   "execution_count": 8,
   "metadata": {
    "collapsed": false
   },
   "outputs": [
    {
     "name": "stdout",
     "output_type": "stream",
     "text": [
      "abalones group 1 95% confidence interval  (0.3781022330576666, 0.41141032694233332)\n",
      "abalones group 2 95% confidence interval  (0.37941257215409091, 0.42184978784590915)\n"
     ]
    }
   ],
   "source": [
    "print(\"abalones group 1 95% confidence interval \", (mean5000_1 - 1.96 * std5000_1, mean5000_1 + 1.96 * std5000_1))\n",
    "print(\"abalones group 2 95% confidence interval \", (mean5000_2 - 1.96 * std5000_2, mean5000_2 + 1.96 * std5000_2))\n"
   ]
  },
  {
   "cell_type": "markdown",
   "metadata": {},
   "source": [
    "thus they INTERSECT. This time we can say nothing to answer the question."
   ]
  },
  {
   "cell_type": "code",
   "execution_count": 9,
   "metadata": {
    "collapsed": false
   },
   "outputs": [
    {
     "name": "stdout",
     "output_type": "stream",
     "text": [
      "95% confidence interval of the difference of the means: (-0.0062563673245446304, -0.0054934326754555131)\n"
     ]
    }
   ],
   "source": [
    "mean5000_diff = means5000_1 - mean5000_2\n",
    "mean_diff = mean5000_1 - mean5000_2\n",
    "int_ends = 1.96 * math.sqrt((math.pow(std5000_1, 2) / 5000) + (math.pow(std5000_2, 2) / 5000))\n",
    "# print(\"MEAN\", mean5000_diff.mean(), \"| STD\", mean5000_diff.std())\n",
    "print(\"95% confidence interval of the difference of the means:\", (mean_diff - int_ends,\n",
    "                                                                  mean_diff + int_ends))"
   ]
  },
  {
   "cell_type": "markdown",
   "metadata": {
    "collapsed": true
   },
   "source": [
    "Thus, we can say that group 2 has greater shells in average with the confidence level of 95% because the difference confidence interval shifted to the negative side (left with respect to zero point) according to bootstrap method. "
   ]
  },
  {
   "cell_type": "markdown",
   "metadata": {},
   "source": [
    "<h1 align=\"center\">HA #3 Scatterplot, linear regression, correlation and determinacy coefficients</h1>"
   ]
  },
  {
   "cell_type": "code",
   "execution_count": 10,
   "metadata": {
    "collapsed": true
   },
   "outputs": [],
   "source": [
    "from pandas.tools.plotting import scatter_matrix"
   ]
  },
  {
   "cell_type": "code",
   "execution_count": 8,
   "metadata": {
    "collapsed": false
   },
   "outputs": [
    {
     "data": {
      "image/png": "[encoded data removed]",
      "text/plain": [
       "<matplotlib.figure.Figure at 0x7fe29ec8cb00>"
      ]
     },
     "metadata": {},
     "output_type": "display_data"
    }
   ],
   "source": [
    "sc = scatter_matrix(pass_data, alpha=0.2, figsize=(6, 6), diagonal='kde')"
   ]
  },
  {
   "cell_type": "markdown",
   "metadata": {},
   "source": [
    "So, there are a lot of dependencies which look linear-like. In the following graph i've shown a Length-Height scatter plot which looks like a line most of all for me. What about non-linear, for instance, there is Whole_weight-Diameter plot, which looks like porabola. Also there are a lot of complex dependencies, like Shucked_weight-Rings. I have no idea what is it exactly, but i suppose it is not linear-like dependency (which is clear thanks to the fact that Rings count is the target variable of this data-set)"
   ]
  },
  {
   "cell_type": "code",
   "execution_count": 9,
   "metadata": {
    "collapsed": false
   },
   "outputs": [
    {
     "data": {
      "image/png": "[encoded data removed]",
      "text/plain": [
       "<matplotlib.figure.Figure at 0x7fe29ee200b8>"
      ]
     },
     "metadata": {},
     "output_type": "display_data"
    }
   ],
   "source": [
    "s = pass_data.plot.scatter(x=\"Length\", y=\"Height\", label=\"linear-like\")"
   ]
  },
  {
   "cell_type": "code",
   "execution_count": 4,
   "metadata": {
    "collapsed": false
   },
   "outputs": [
    {
     "data": {
      "image/png": "[encoded data removed]",
      "text/plain": [
       "<matplotlib.figure.Figure at 0x7fe2d0670438>"
      ]
     },
     "metadata": {},
     "output_type": "display_data"
    }
   ],
   "source": [
    "sc = pass_data.plot.scatter(x=\"Shucked_w\", y=\"Rings\", label=\"NOT a line\")"
   ]
  },
  {
   "cell_type": "markdown",
   "metadata": {},
   "source": [
    "Let's build a simple linear regression estimating a and b coefficient of a model. x-asix means lenght, y-axis means height.\n",
    "$$y_i= a x_i + b + \\varepsilon_i $$ Using the following formula.\n",
    "$$\\hat{b} = \\bar{y} - \\hat{a}\\bar{x}$$\n",
    "$$\\hat{a} = \\frac{\\sum_i^n{(x_i-\\bar{x})(y_i-\\bar{y})}}{\\sum_i^n{(x_i-\\bar{x})^2}}$$"
   ]
  },
  {
   "cell_type": "code",
   "execution_count": 15,
   "metadata": {
    "collapsed": false
   },
   "outputs": [
    {
     "name": "stdout",
     "output_type": "stream",
     "text": [
      "slope, a =  0.288227930552 intersept, b =  -0.0115127591617\n"
     ]
    }
   ],
   "source": [
    "X = np.array(list(pass_data[\"Length\"]), dtype=float)\n",
    "Y = np.array(list(pass_data[\"Height\"]), dtype=float)\n",
    "X_mean = np.mean(X)\n",
    "Y_mean = np.mean(Y)\n",
    "\n",
    "est_a = np.sum((X - X_mean) * (Y - Y_mean)) / np.sum((X - X_mean) ** 2)\n",
    "est_b = Y_mean - est_a * X_mean\n",
    "print(\"slope, a = \", est_a, \"intersept, b = \", est_b)"
   ]
  },
  {
   "cell_type": "markdown",
   "metadata": {},
   "source": [
    "Accordingly to slope we can say, that, when the length of an abalone increases by 1 mm we predict that the height will increase by approximately ~0.288 mm."
   ]
  },
  {
   "cell_type": "code",
   "execution_count": 16,
   "metadata": {
    "collapsed": false
   },
   "outputs": [
    {
     "name": "stdout",
     "output_type": "stream",
     "text": [
      "r correlation coef = 0.827553609319 | R^2 determinacy coef = 0.684844976297\n"
     ]
    }
   ],
   "source": [
    "#make prediction\n",
    "Y_pred = est_a * X  + est_b\n",
    "#r coef\n",
    "Correlation = np.corrcoef(Y, Y_pred)[0][1]\n",
    "#R^2 calc\n",
    "Determinacy_coef = Correlation ** 2 # Unfortunately, the specific func for it is not found\n",
    "\n",
    "print(\"r correlation coef =\", Correlation, \"| R^2 determinacy coef =\", Determinacy_coef)\n"
   ]
  },
  {
   "cell_type": "markdown",
   "metadata": {},
   "source": [
    "The sign of r means the sign of slope a. so if lenght of abalone grows the height grows too. The value of r ~0.827 is located near the 1. It indicates how closely spaced points to a straight line. 0.827 means very good (but not excellent) linear correlation. R^2 ~0.68 is a proportion of the variance of dispersion Y which is tacken into account by regressin of Y over X. 0.68 is ok for reasonable linear model (it should be at least 0.5)"
   ]
  },
  {
   "cell_type": "markdown",
   "metadata": {
    "collapsed": true
   },
   "source": [
    "NOT COMPULSORY \n",
    "Estimate the 95% confidence intervals of the slope, intercept, and correlation coefficient by using a 5000 strong bootstrap resampling technique"
   ]
  },
  {
   "cell_type": "code",
   "execution_count": 24,
   "metadata": {
    "collapsed": false
   },
   "outputs": [],
   "source": [
    "slope_set = []\n",
    "intersept_set = []\n",
    "correlation_set = []\n",
    "abalone_set_size = pass_data.shape[0]\n",
    "\n",
    "for i in range(5000):\n",
    "    FOO = np.array(pass_data[[\"Length\", \"Height\"]].sample(n=abalone_set_size, replace=True), dtype=float)\n",
    "    X = FOO[:, 0] #lenght\n",
    "    Y = FOO[:, 1] #height\n",
    "    X_mean = np.mean(X)\n",
    "    Y_mean = np.mean(Y)\n",
    "    est_a = np.sum((X - X_mean) * (Y - Y_mean)) / np.sum((X - X_mean) ** 2)\n",
    "    est_b = Y_mean - est_a * X_mean\n",
    "    Y_pred = est_a * X  + est_b\n",
    "    Correlation = np.corrcoef(Y, Y_pred)[0][1]\n",
    "    #fill sets with estimations\n",
    "    slope_set.append(est_a) \n",
    "    intersept_set.append(est_b)\n",
    "    correlation_set.append(Correlation)"
   ]
  },
  {
   "cell_type": "markdown",
   "metadata": {
    "collapsed": true
   },
   "source": [
    "To make things easier i will be using a non-pivotal method building intervals"
   ]
  },
  {
   "cell_type": "code",
   "execution_count": 19,
   "metadata": {
    "collapsed": false
   },
   "outputs": [
    {
     "name": "stdout",
     "output_type": "stream",
     "text": [
      "95% confidence interval for slope using bootstrap: 0.283191585762 0.293251537416\n",
      "95% confidence interval for intersept using bootstrap: -0.0140880689942 -0.00863279091893\n",
      "95% confidence interval for correlation using bootstrap: 0.722545435808 0.903258205528\n"
     ]
    }
   ],
   "source": [
    "slope_set.sort()\n",
    "print(\"95% confidence interval for slope using bootstrap:\", slope_set[125], slope_set[4875]) \n",
    "#cut off 5% of values (2.5% from each side)\n",
    "intersept_set.sort()\n",
    "print(\"95% confidence interval for intersept using bootstrap:\", intersept_set[125], intersept_set[4875])\n",
    "correlation_set.sort()\n",
    "print(\"95% confidence interval for correlation using bootstrap:\", correlation_set[125], correlation_set[4875])\n"
   ]
  },
  {
   "cell_type": "markdown",
   "metadata": {
    "collapsed": true
   },
   "source": [
    "Well, this intervals cover estimated sclope, intersept and correlation score with the 95% probability. In addition, we can see that this intervals cover an estimations that we found at previous task. The resulting estimates are close to the centers of the intervals."
   ]
  },
  {
   "cell_type": "markdown",
   "metadata": {},
   "source": [
    "<h1 align=\"center\">HA #4 Cross-validation for testing prediction methods and fitting regression by using nature-inspired approaches</h1>"
   ]
  },
  {
   "cell_type": "code",
   "execution_count": 133,
   "metadata": {
    "collapsed": true
   },
   "outputs": [],
   "source": [
    "# i will build a linear regression y = a * X + b like in the previous task\n",
    "X = np.array(list(pass_data[\"Length\"]), dtype=float)\n",
    "y = np.array(list(pass_data[\"Height\"]), dtype=float)\n",
    "y[y == 0] = 0.00001"
   ]
  },
  {
   "cell_type": "code",
   "execution_count": 161,
   "metadata": {
    "collapsed": false
   },
   "outputs": [],
   "source": [
    "#put every item randomly into one of 10 buckets\n",
    "indices_in_buckets = [[] for i in range(10)]\n",
    "for i in range(X.shape[0]):\n",
    "    indices_in_buckets[np.random.randint(0, 10)].append(i)\n",
    "    \n",
    "MSE_over_each_fold = []\n",
    "all_idx = set([i for i in range(X.shape[0])])\n",
    "for indices in indices_in_buckets:\n",
    "    X_train, X_test = X[list(all_idx - set(indices))], X[indices]\n",
    "    y_train, y_test = y[list(all_idx - set(indices))], y[indices]\n",
    "    #build a regression over X_train and test on X_test\n",
    "    X_tr_mean = np.mean(X_train)\n",
    "    y_tr_mean = np.mean(y_train)\n",
    "    est_a = np.sum((X_train - X_tr_mean) * (y_train - y_tr_mean)) / np.sum((X_train - X_tr_mean) ** 2)\n",
    "    est_b = y_tr_mean - est_a * X_tr_mean\n",
    "    y_pred = est_a * X_test + est_b\n",
    "    MSE_over_each_fold.append(((y_test - y_pred) ** 2).mean())"
   ]
  },
  {
   "cell_type": "code",
   "execution_count": 162,
   "metadata": {
    "collapsed": false
   },
   "outputs": [
    {
     "data": {
      "text/plain": [
       "[0.000616174864292801,\n",
       " 0.00026493464275016259,\n",
       " 0.00026205201298679787,\n",
       " 0.00023442159709623144,\n",
       " 0.00025130582879782091,\n",
       " 0.00025700944394991458,\n",
       " 0.00032155498159154372,\n",
       " 0.00031960571032660893,\n",
       " 0.0026604600546613695,\n",
       " 0.00027274003124381656]"
      ]
     },
     "execution_count": 162,
     "metadata": {},
     "output_type": "execute_result"
    }
   ],
   "source": [
    "MSE_over_each_fold"
   ]
  },
  {
   "cell_type": "code",
   "execution_count": 163,
   "metadata": {
    "collapsed": false
   },
   "outputs": [
    {
     "data": {
      "text/plain": [
       "0.0005460259167697067"
      ]
     },
     "execution_count": 163,
     "metadata": {},
     "output_type": "execute_result"
    }
   ],
   "source": [
    "np.array(MSE_over_each_fold).mean()"
   ]
  },
  {
   "cell_type": "markdown",
   "metadata": {},
   "source": [
    "Thus, thanks to 10-fold cross-validation we can say how well the algorithm works for data at which it was not trained. In some parts it works better, in others it works worse, but it's pretty nice in average. Cross-validation gives us an idea about the quality of the algorithm on the new data."
   ]
  },
  {
   "cell_type": "markdown",
   "metadata": {},
   "source": [
    "***Nature Inspired algorithm***"
   ]
  },
  {
   "cell_type": "code",
   "execution_count": 155,
   "metadata": {
    "collapsed": false
   },
   "outputs": [],
   "source": [
    "# here i wrote a simple class which is doing a nature inspired alorithm to minimize the average relative error\n",
    "\n",
    "def compute_relative_average_error(a, b, X, y):\n",
    "    y_pred = a * X + b\n",
    "    error = np.absolute(y_pred - y) / y\n",
    "#     error = (y_pred - y) ** 2\n",
    "    return error.mean()\n",
    "\n",
    "\n",
    "class NatureInspired():\n",
    "    def __init__(self, X, y, max_iter=100):\n",
    "        self.X = np.array(X)\n",
    "        self.y = np.array(y)\n",
    "        self.max_iter = max_iter\n",
    "#         compute boundary constants\n",
    "        def get_boundaries():\n",
    "            a = []\n",
    "            b = []\n",
    "            for i, j in itertools.combinations(list(range(self.X.shape[0])), 2):\n",
    "                if (self.X[i] - self.X[j]) != 0:\n",
    "                    a.append((self.y[i] - self.y[j]) / (self.X[i] - self.X[j]))\n",
    "                    b.append((self.X[i] * self.y[j] - self.X[j] * self.y[i]) / (self.X[i] - self.X[j]))\n",
    "                \n",
    "#             print(a)\n",
    "            a = sorted(a)[(len(a) // 5):(len(a) // 5) * 4]\n",
    "            b = sorted(b)[(len(b) // 5):(len(b) // 5) * 4]\n",
    "            a = np.array(a)\n",
    "            b = np.array(b)\n",
    "            \n",
    "            return a.min(), a.max(), b.min(), b.max()\n",
    "        \n",
    "        self.am, self.Am, self.bm, self.Bm = get_boundaries()\n",
    "#         print(self.am, self.Am, self.bm,  self.Bm)\n",
    "        \n",
    "        self.p = 100\n",
    "        self.f = np.hstack((np.random.uniform(low=self.am, high=self.Am, size=(self.p, 1)), np.random.uniform(low=self.bm, high=self.Bm, size=(self.p, 1)))) #np.zeros((self.p, 2))\n",
    "        self.elite = 0\n",
    "        self.f_next = np.copy(self.f)\n",
    "    \n",
    "    \n",
    "    def get_elite(self):\n",
    "        rel_errors_means = np.array([compute_relative_average_error(a, b, self.X, self.y) for a, b in self.f_next])\n",
    "        print(\"min mean rel err:\", rel_errors_means.min())\n",
    "        return self.f[rel_errors_means.argmin()]\n",
    "            \n",
    "        \n",
    "    def normalize_population(self):\n",
    "        for idx, unit in enumerate(self.f_next):\n",
    "            if unit[0] < self.am:\n",
    "                self.f_next[idx, 0] = self.am\n",
    "            elif unit[0] > self.Am:\n",
    "                self.f_next[idx, 0] = self.Am\n",
    "            if unit[1] < self.bm:\n",
    "                self.f_next[idx, 1] = self.bm\n",
    "            elif unit[1] > self.am:\n",
    "                self.f_next[idx, 1] = self.Bm\n",
    "            \n",
    "            \n",
    "    def do_mutation(self):\n",
    "        self.f_next = self.f + (np.random.normal(size=(self.p, 2)) * (np.repeat([self.f.mean(axis=0)], self.p, axis=0)) / 100)\n",
    "\n",
    "        \n",
    "    def run(self):\n",
    "        self.elite = self.get_elite()\n",
    "        for i in range(self.max_iter):\n",
    "            self.do_mutation()\n",
    "            self.normalize_population()\n",
    "            new_elite = self.get_elite()\n",
    "            self.elite = new_elite if compute_relative_average_error(new_elite[0], new_elite[1], self.X, self.y) < compute_relative_average_error(self.elite[0], self.elite[1], self.X, self.y) else self.elite\n",
    "            self.f = 0.7 * self.f_next + 0.3 * np.repeat([self.elite], self.p, axis=0)\n",
    "            \n"
   ]
  },
  {
   "cell_type": "code",
   "execution_count": 156,
   "metadata": {
    "collapsed": false,
    "scrolled": true
   },
   "outputs": [
    {
     "name": "stdout",
     "output_type": "stream",
     "text": [
      "min mean rel err: 1.32092493424\n",
      "min mean rel err: 1.31950159028\n",
      "min mean rel err: 1.32085962743\n",
      "min mean rel err: 1.32258826422\n",
      "min mean rel err: 1.32611968459\n",
      "min mean rel err: 1.27242436215\n",
      "min mean rel err: 1.28963200875\n",
      "min mean rel err: 1.29151780928\n",
      "min mean rel err: 1.28325252977\n",
      "min mean rel err: 1.28487633703\n",
      "min mean rel err: 1.28088087467\n",
      "min mean rel err: 1.27974725498\n",
      "min mean rel err: 1.2781514729\n",
      "min mean rel err: 1.28019968952\n",
      "min mean rel err: 1.28133387898\n",
      "min mean rel err: 1.27732662076\n",
      "min mean rel err: 1.27856284553\n",
      "min mean rel err: 1.28003140065\n",
      "min mean rel err: 1.2765909655\n",
      "min mean rel err: 1.27451729675\n",
      "min mean rel err: 1.27131614901\n",
      "min mean rel err: 1.27204797403\n",
      "min mean rel err: 1.27443199279\n",
      "min mean rel err: 1.27445094198\n",
      "min mean rel err: 1.27524565376\n",
      "min mean rel err: 1.275227704\n",
      "min mean rel err: 1.2739351123\n",
      "min mean rel err: 1.27332155211\n",
      "min mean rel err: 1.27154537574\n",
      "min mean rel err: 1.27043758861\n",
      "min mean rel err: 1.27004553088\n",
      "min mean rel err: 1.27020497628\n",
      "min mean rel err: 1.26905537984\n",
      "min mean rel err: 1.26800446413\n",
      "min mean rel err: 1.26983374827\n",
      "min mean rel err: 1.26669480787\n",
      "min mean rel err: 1.26602918183\n",
      "min mean rel err: 1.26705475808\n",
      "min mean rel err: 1.26654762427\n",
      "min mean rel err: 1.26699402993\n",
      "min mean rel err: 1.26905981752\n",
      "min mean rel err: 1.26630446266\n",
      "min mean rel err: 1.26901781209\n",
      "min mean rel err: 1.26681968496\n",
      "min mean rel err: 1.26615941015\n",
      "min mean rel err: 1.26603439121\n",
      "min mean rel err: 1.26770565071\n",
      "min mean rel err: 1.26540241672\n",
      "min mean rel err: 1.26773671285\n",
      "min mean rel err: 1.26244482625\n",
      "min mean rel err: 1.2640968375\n",
      "min mean rel err: 1.2623851241\n",
      "min mean rel err: 1.26473746035\n",
      "min mean rel err: 1.26426134701\n",
      "min mean rel err: 1.2620763239\n",
      "min mean rel err: 1.26265178943\n",
      "min mean rel err: 1.25920569866\n",
      "min mean rel err: 1.2631538538\n",
      "min mean rel err: 1.26289856847\n",
      "min mean rel err: 1.26109239404\n",
      "min mean rel err: 1.26207678206\n",
      "min mean rel err: 1.26034394165\n",
      "min mean rel err: 1.26007339957\n",
      "min mean rel err: 1.25949417913\n",
      "min mean rel err: 1.25967876979\n",
      "min mean rel err: 1.2526446858\n",
      "min mean rel err: 1.2580699934\n",
      "min mean rel err: 1.25792502331\n",
      "min mean rel err: 1.25580109826\n",
      "min mean rel err: 1.25448768899\n",
      "min mean rel err: 1.25589668804\n",
      "min mean rel err: 1.25556029195\n",
      "min mean rel err: 1.25504703801\n",
      "min mean rel err: 1.25187638451\n",
      "min mean rel err: 1.25245478225\n",
      "min mean rel err: 1.25309264241\n",
      "min mean rel err: 1.25328629109\n",
      "min mean rel err: 1.25234110324\n",
      "min mean rel err: 1.25251954345\n",
      "min mean rel err: 1.25383449638\n",
      "min mean rel err: 1.25087046953\n",
      "min mean rel err: 1.25197460793\n",
      "min mean rel err: 1.24865642955\n",
      "min mean rel err: 1.24914900505\n",
      "min mean rel err: 1.24996313328\n",
      "min mean rel err: 1.24981719686\n",
      "min mean rel err: 1.2455553094\n",
      "min mean rel err: 1.24619330903\n",
      "min mean rel err: 1.24689150569\n",
      "min mean rel err: 1.24748646674\n",
      "min mean rel err: 1.24604062474\n",
      "min mean rel err: 1.24471267826\n",
      "min mean rel err: 1.243436702\n",
      "min mean rel err: 1.24419075056\n",
      "min mean rel err: 1.24365338011\n",
      "min mean rel err: 1.23894476864\n",
      "min mean rel err: 1.24060360018\n",
      "min mean rel err: 1.236636457\n",
      "min mean rel err: 1.2386494357\n",
      "min mean rel err: 1.23884194742\n",
      "min mean rel err: 1.23641897997\n"
     ]
    }
   ],
   "source": [
    "NI = NatureInspired(X=X, y=y)\n",
    "NI.run()"
   ]
  },
  {
   "cell_type": "markdown",
   "metadata": {
    "collapsed": false
   },
   "source": [
    "Well, we can see that the average relative error decreases (in general) from generation to generation. This algorithm can also minimize MSE and reachs a result such as CV-score in previous task of this home assignment (i mean 0.00055). For this porpose we need just change one error to another in function compute_relative_average_error, which is simple.\n",
    "Next, i print an elite a and b from last generation (i built 100 of them)."
   ]
  },
  {
   "cell_type": "code",
   "execution_count": 157,
   "metadata": {
    "collapsed": false
   },
   "outputs": [
    {
     "data": {
      "text/plain": [
       "array([ 0.16718049, -0.0526545 ])"
      ]
     },
     "execution_count": 157,
     "metadata": {},
     "output_type": "execute_result"
    }
   ],
   "source": [
    "NI.elite"
   ]
  },
  {
   "cell_type": "markdown",
   "metadata": {},
   "source": [
    "As a result we have a prediction rule y = 0.16718049 * X - 0.0526545, according to 100-th generation using NI approach. "
   ]
  },
  {
   "cell_type": "markdown",
   "metadata": {},
   "source": [
    "<h1 align=\"center\">HA #5 Contingency table, Quetelet index, Pearson chi-squared coefficient, visualization of association patterns</h1>"
   ]
  },
  {
   "cell_type": "code",
   "execution_count": 50,
   "metadata": {
    "collapsed": false
   },
   "outputs": [
    {
     "data": {
      "text/html": [
       "<div>\n",
       "<table border=\"1\" class=\"dataframe\">\n",
       "  <thead>\n",
       "    <tr style=\"text-align: right;\">\n",
       "      <th></th>\n",
       "      <th>Sex</th>\n",
       "      <th>Length</th>\n",
       "      <th>Diameter</th>\n",
       "      <th>Height</th>\n",
       "      <th>Whole_w</th>\n",
       "      <th>Shucked_w</th>\n",
       "      <th>Viscera_w</th>\n",
       "      <th>Shell_w</th>\n",
       "      <th>Rings</th>\n",
       "    </tr>\n",
       "  </thead>\n",
       "  <tbody>\n",
       "    <tr>\n",
       "      <th>0</th>\n",
       "      <td>M</td>\n",
       "      <td>0.455</td>\n",
       "      <td>0.365</td>\n",
       "      <td>0.095</td>\n",
       "      <td>0.514</td>\n",
       "      <td>0.2245</td>\n",
       "      <td>0.101</td>\n",
       "      <td>0.15</td>\n",
       "      <td>15</td>\n",
       "    </tr>\n",
       "  </tbody>\n",
       "</table>\n",
       "</div>"
      ],
      "text/plain": [
       "  Sex  Length  Diameter  Height  Whole_w  Shucked_w  Viscera_w  Shell_w  Rings\n",
       "0   M   0.455     0.365   0.095    0.514     0.2245      0.101     0.15     15"
      ]
     },
     "execution_count": 50,
     "metadata": {},
     "output_type": "execute_result"
    }
   ],
   "source": [
    "pass_data.head(1)"
   ]
  },
  {
   "cell_type": "code",
   "execution_count": 51,
   "metadata": {
    "collapsed": false
   },
   "outputs": [
    {
     "data": {
      "image/png": "[encoded data removed]",
      "text/plain": [
       "<matplotlib.figure.Figure at 0x7f0e045808d0>"
      ]
     },
     "metadata": {},
     "output_type": "display_data"
    }
   ],
   "source": [
    "#compute hists to generate nominal features from quantitative\n",
    "plt.figure(figsize=(10, 10))\n",
    "plt.subplot(221)\n",
    "plt.xlabel(\"Diameter\")\n",
    "bins1 = plt.hist(pass_data['Diameter'], 100, normed=1, facecolor='red', alpha=1)\n",
    "\n",
    "# plt.figure(figsize=(10, 10))\n",
    "plt.subplot(222)\n",
    "plt.xlabel(\"Shell_w\")\n",
    "bins1 = plt.hist(pass_data['Shell_w'], 100, normed=1, facecolor='red', alpha=1)\n",
    "\n",
    "# plt.figure(figsize=(10, 10))\n",
    "plt.subplot(223)\n",
    "plt.xlabel(\"Viscera_w\")\n",
    "bins1 = plt.hist(pass_data['Viscera_w'], 100, normed=1, facecolor='red', alpha=1)"
   ]
  },
  {
   "cell_type": "code",
   "execution_count": 52,
   "metadata": {
    "collapsed": true
   },
   "outputs": [],
   "source": [
    "# I develope 3 nominal features by following thresholds\n",
    "Diam = [0, 0.3, 0.445, 0.53, 0.7]\n",
    "Shel_w = [0, 0.14, 0.22, 0.32, 1.2]\n",
    "vincera_w = [0, 0.066, 0.28, 0.8]\n"
   ]
  },
  {
   "cell_type": "code",
   "execution_count": 53,
   "metadata": {
    "collapsed": true
   },
   "outputs": [],
   "source": [
    "Vincera_w_and_diam_category = pd.DataFrame(columns=['D1', 'D2', 'D3', 'D4', 'Total'], index=['V1', 'V2', 'V3', 'Total'], dtype=float)\n",
    "Vincera_w_and_shell_w_category = pd.DataFrame(columns=['S1', 'S2', 'S3', 'S4', 'Total'], index=Vincera_w_and_diam_category.index, dtype=float)"
   ]
  },
  {
   "cell_type": "code",
   "execution_count": 54,
   "metadata": {
    "collapsed": true
   },
   "outputs": [],
   "source": [
    "for i in range(3):\n",
    "    for j in range(4):\n",
    "        Vincera_w_and_diam_category.ix[i, j] = pass_data[(pass_data['Diameter'] >= Diam[j]) & (pass_data['Diameter'] < Diam[j+1]) & (pass_data['Viscera_w'] >= vincera_w[i]) & (pass_data['Viscera_w'] < vincera_w[i+1])].shape[0]\n",
    "        Vincera_w_and_shell_w_category.ix[i, j] = pass_data[(pass_data['Shell_w'] >= Shel_w[j]) & (pass_data['Shell_w'] < Shel_w[j+1]) & (pass_data['Viscera_w'] >= vincera_w[i]) & (pass_data['Viscera_w'] < vincera_w[i+1])].shape[0]"
   ]
  },
  {
   "cell_type": "code",
   "execution_count": 55,
   "metadata": {
    "collapsed": false
   },
   "outputs": [],
   "source": [
    "Vincera_w_and_diam_category['Total'] = Vincera_w_and_diam_category.sum(axis=1)\n",
    "Vincera_w_and_diam_category.ix[3,:] = Vincera_w_and_diam_category.sum(axis=0)\n",
    "Vincera_w_and_shell_w_category['Total'] = Vincera_w_and_shell_w_category.sum(axis=1)\n",
    "Vincera_w_and_shell_w_category.ix[3,:] = Vincera_w_and_shell_w_category.sum(axis=0)\n"
   ]
  },
  {
   "cell_type": "code",
   "execution_count": 56,
   "metadata": {
    "collapsed": false
   },
   "outputs": [
    {
     "data": {
      "text/html": [
       "<div>\n",
       "<table border=\"1\" class=\"dataframe\">\n",
       "  <thead>\n",
       "    <tr style=\"text-align: right;\">\n",
       "      <th></th>\n",
       "      <th>D1</th>\n",
       "      <th>D2</th>\n",
       "      <th>D3</th>\n",
       "      <th>D4</th>\n",
       "      <th>Total</th>\n",
       "    </tr>\n",
       "  </thead>\n",
       "  <tbody>\n",
       "    <tr>\n",
       "      <th>V1</th>\n",
       "      <td>596.0</td>\n",
       "      <td>124.0</td>\n",
       "      <td>0.0</td>\n",
       "      <td>0.0</td>\n",
       "      <td>720.0</td>\n",
       "    </tr>\n",
       "    <tr>\n",
       "      <th>V2</th>\n",
       "      <td>25.0</td>\n",
       "      <td>1630.0</td>\n",
       "      <td>987.0</td>\n",
       "      <td>37.0</td>\n",
       "      <td>2679.0</td>\n",
       "    </tr>\n",
       "    <tr>\n",
       "      <th>V3</th>\n",
       "      <td>0.0</td>\n",
       "      <td>13.0</td>\n",
       "      <td>465.0</td>\n",
       "      <td>300.0</td>\n",
       "      <td>778.0</td>\n",
       "    </tr>\n",
       "    <tr>\n",
       "      <th>Total</th>\n",
       "      <td>621.0</td>\n",
       "      <td>1767.0</td>\n",
       "      <td>1452.0</td>\n",
       "      <td>337.0</td>\n",
       "      <td>4177.0</td>\n",
       "    </tr>\n",
       "  </tbody>\n",
       "</table>\n",
       "</div>"
      ],
      "text/plain": [
       "          D1      D2      D3     D4   Total\n",
       "V1     596.0   124.0     0.0    0.0   720.0\n",
       "V2      25.0  1630.0   987.0   37.0  2679.0\n",
       "V3       0.0    13.0   465.0  300.0   778.0\n",
       "Total  621.0  1767.0  1452.0  337.0  4177.0"
      ]
     },
     "execution_count": 56,
     "metadata": {},
     "output_type": "execute_result"
    }
   ],
   "source": [
    "Vincera_w_and_diam_category"
   ]
  },
  {
   "cell_type": "code",
   "execution_count": 57,
   "metadata": {
    "collapsed": false
   },
   "outputs": [
    {
     "data": {
      "text/html": [
       "<div>\n",
       "<table border=\"1\" class=\"dataframe\">\n",
       "  <thead>\n",
       "    <tr style=\"text-align: right;\">\n",
       "      <th></th>\n",
       "      <th>S1</th>\n",
       "      <th>S2</th>\n",
       "      <th>S3</th>\n",
       "      <th>S4</th>\n",
       "      <th>Total</th>\n",
       "    </tr>\n",
       "  </thead>\n",
       "  <tbody>\n",
       "    <tr>\n",
       "      <th>V1</th>\n",
       "      <td>714.0</td>\n",
       "      <td>5.0</td>\n",
       "      <td>0.0</td>\n",
       "      <td>1.0</td>\n",
       "      <td>720.0</td>\n",
       "    </tr>\n",
       "    <tr>\n",
       "      <th>V2</th>\n",
       "      <td>424.0</td>\n",
       "      <td>807.0</td>\n",
       "      <td>1013.0</td>\n",
       "      <td>435.0</td>\n",
       "      <td>2679.0</td>\n",
       "    </tr>\n",
       "    <tr>\n",
       "      <th>V3</th>\n",
       "      <td>0.0</td>\n",
       "      <td>3.0</td>\n",
       "      <td>83.0</td>\n",
       "      <td>692.0</td>\n",
       "      <td>778.0</td>\n",
       "    </tr>\n",
       "    <tr>\n",
       "      <th>Total</th>\n",
       "      <td>1138.0</td>\n",
       "      <td>815.0</td>\n",
       "      <td>1096.0</td>\n",
       "      <td>1128.0</td>\n",
       "      <td>4177.0</td>\n",
       "    </tr>\n",
       "  </tbody>\n",
       "</table>\n",
       "</div>"
      ],
      "text/plain": [
       "           S1     S2      S3      S4   Total\n",
       "V1      714.0    5.0     0.0     1.0   720.0\n",
       "V2      424.0  807.0  1013.0   435.0  2679.0\n",
       "V3        0.0    3.0    83.0   692.0   778.0\n",
       "Total  1138.0  815.0  1096.0  1128.0  4177.0"
      ]
     },
     "execution_count": 57,
     "metadata": {},
     "output_type": "execute_result"
    }
   ],
   "source": [
    "Vincera_w_and_shell_w_category"
   ]
  },
  {
   "cell_type": "code",
   "execution_count": 58,
   "metadata": {
    "collapsed": false
   },
   "outputs": [],
   "source": [
    "concontingency_t_diam = Vincera_w_and_diam_category.copy()\n",
    "concontingency_t_shell_w = Vincera_w_and_shell_w_category.copy()\n",
    "for i in range(3):\n",
    "    concontingency_t_diam.ix[i,:-1] /= concontingency_t_diam.ix[3,:-1]\n",
    "    concontingency_t_shell_w.ix[i,:-1] /= concontingency_t_shell_w.ix[3,:-1]\n",
    "\n",
    "concontingency_t_diam = concontingency_t_diam.round(3)\n",
    "concontingency_t_shell_w = concontingency_t_shell_w.round(3)"
   ]
  },
  {
   "cell_type": "code",
   "execution_count": 59,
   "metadata": {
    "collapsed": false
   },
   "outputs": [
    {
     "data": {
      "text/html": [
       "<div>\n",
       "<table border=\"1\" class=\"dataframe\">\n",
       "  <thead>\n",
       "    <tr style=\"text-align: right;\">\n",
       "      <th></th>\n",
       "      <th>D1</th>\n",
       "      <th>D2</th>\n",
       "      <th>D3</th>\n",
       "      <th>D4</th>\n",
       "      <th>Total</th>\n",
       "    </tr>\n",
       "  </thead>\n",
       "  <tbody>\n",
       "    <tr>\n",
       "      <th>V1</th>\n",
       "      <td>0.96</td>\n",
       "      <td>0.070</td>\n",
       "      <td>0.00</td>\n",
       "      <td>0.00</td>\n",
       "      <td>720.0</td>\n",
       "    </tr>\n",
       "    <tr>\n",
       "      <th>V2</th>\n",
       "      <td>0.04</td>\n",
       "      <td>0.922</td>\n",
       "      <td>0.68</td>\n",
       "      <td>0.11</td>\n",
       "      <td>2679.0</td>\n",
       "    </tr>\n",
       "    <tr>\n",
       "      <th>V3</th>\n",
       "      <td>0.00</td>\n",
       "      <td>0.007</td>\n",
       "      <td>0.32</td>\n",
       "      <td>0.89</td>\n",
       "      <td>778.0</td>\n",
       "    </tr>\n",
       "    <tr>\n",
       "      <th>Total</th>\n",
       "      <td>621.00</td>\n",
       "      <td>1767.000</td>\n",
       "      <td>1452.00</td>\n",
       "      <td>337.00</td>\n",
       "      <td>4177.0</td>\n",
       "    </tr>\n",
       "  </tbody>\n",
       "</table>\n",
       "</div>"
      ],
      "text/plain": [
       "           D1        D2       D3      D4   Total\n",
       "V1       0.96     0.070     0.00    0.00   720.0\n",
       "V2       0.04     0.922     0.68    0.11  2679.0\n",
       "V3       0.00     0.007     0.32    0.89   778.0\n",
       "Total  621.00  1767.000  1452.00  337.00  4177.0"
      ]
     },
     "execution_count": 59,
     "metadata": {},
     "output_type": "execute_result"
    }
   ],
   "source": [
    "# next i presented 2 conditional frequency tables\n",
    "concontingency_t_diam"
   ]
  },
  {
   "cell_type": "markdown",
   "metadata": {},
   "source": [
    "There we can see, especially V1 given D1, V2 given D2 and V3 given D4, so, the almost conceptual rules are: D1 -> V1, D2 -> V2, D4 -> V3"
   ]
  },
  {
   "cell_type": "code",
   "execution_count": 60,
   "metadata": {
    "collapsed": false
   },
   "outputs": [
    {
     "data": {
      "text/html": [
       "<div>\n",
       "<table border=\"1\" class=\"dataframe\">\n",
       "  <thead>\n",
       "    <tr style=\"text-align: right;\">\n",
       "      <th></th>\n",
       "      <th>S1</th>\n",
       "      <th>S2</th>\n",
       "      <th>S3</th>\n",
       "      <th>S4</th>\n",
       "      <th>Total</th>\n",
       "    </tr>\n",
       "  </thead>\n",
       "  <tbody>\n",
       "    <tr>\n",
       "      <th>V1</th>\n",
       "      <td>0.627</td>\n",
       "      <td>0.006</td>\n",
       "      <td>0.000</td>\n",
       "      <td>0.001</td>\n",
       "      <td>720.0</td>\n",
       "    </tr>\n",
       "    <tr>\n",
       "      <th>V2</th>\n",
       "      <td>0.373</td>\n",
       "      <td>0.990</td>\n",
       "      <td>0.924</td>\n",
       "      <td>0.386</td>\n",
       "      <td>2679.0</td>\n",
       "    </tr>\n",
       "    <tr>\n",
       "      <th>V3</th>\n",
       "      <td>0.000</td>\n",
       "      <td>0.004</td>\n",
       "      <td>0.076</td>\n",
       "      <td>0.613</td>\n",
       "      <td>778.0</td>\n",
       "    </tr>\n",
       "    <tr>\n",
       "      <th>Total</th>\n",
       "      <td>1138.000</td>\n",
       "      <td>815.000</td>\n",
       "      <td>1096.000</td>\n",
       "      <td>1128.000</td>\n",
       "      <td>4177.0</td>\n",
       "    </tr>\n",
       "  </tbody>\n",
       "</table>\n",
       "</div>"
      ],
      "text/plain": [
       "             S1       S2        S3        S4   Total\n",
       "V1        0.627    0.006     0.000     0.001   720.0\n",
       "V2        0.373    0.990     0.924     0.386  2679.0\n",
       "V3        0.000    0.004     0.076     0.613   778.0\n",
       "Total  1138.000  815.000  1096.000  1128.000  4177.0"
      ]
     },
     "execution_count": 60,
     "metadata": {},
     "output_type": "execute_result"
    }
   ],
   "source": [
    "# conditional frequency\n",
    "concontingency_t_shell_w"
   ]
  },
  {
   "cell_type": "markdown",
   "metadata": {},
   "source": [
    "There we can see, especially V1 given S1, V2 given S2 and V3 given S4, so, the almost conceptual rules are: S2 -> V2, S4 -> V3, S1 -> V1"
   ]
  },
  {
   "cell_type": "code",
   "execution_count": 61,
   "metadata": {
    "collapsed": false
   },
   "outputs": [
    {
     "data": {
      "text/html": [
       "<div>\n",
       "<table border=\"1\" class=\"dataframe\">\n",
       "  <thead>\n",
       "    <tr style=\"text-align: right;\">\n",
       "      <th></th>\n",
       "      <th>D1</th>\n",
       "      <th>D2</th>\n",
       "      <th>D3</th>\n",
       "      <th>D4</th>\n",
       "    </tr>\n",
       "  </thead>\n",
       "  <tbody>\n",
       "    <tr>\n",
       "      <th>V1</th>\n",
       "      <td>4.568</td>\n",
       "      <td>-0.593</td>\n",
       "      <td>-1.000</td>\n",
       "      <td>-1.000</td>\n",
       "    </tr>\n",
       "    <tr>\n",
       "      <th>V2</th>\n",
       "      <td>-0.937</td>\n",
       "      <td>0.438</td>\n",
       "      <td>0.060</td>\n",
       "      <td>-0.829</td>\n",
       "    </tr>\n",
       "    <tr>\n",
       "      <th>V3</th>\n",
       "      <td>-1.000</td>\n",
       "      <td>-0.961</td>\n",
       "      <td>0.719</td>\n",
       "      <td>3.779</td>\n",
       "    </tr>\n",
       "  </tbody>\n",
       "</table>\n",
       "</div>"
      ],
      "text/plain": [
       "       D1     D2     D3     D4\n",
       "V1  4.568 -0.593 -1.000 -1.000\n",
       "V2 -0.937  0.438  0.060 -0.829\n",
       "V3 -1.000 -0.961  0.719  3.779"
      ]
     },
     "execution_count": 61,
     "metadata": {},
     "output_type": "execute_result"
    }
   ],
   "source": [
    "# i calculate q(Vk|Sk) & q(Vk|Dl) using formula on slide 24\n",
    "Quetelet_relative_idx_t_diam = Vincera_w_and_diam_category.copy()\n",
    "Quetelet_relative_idx_t_shell_w = Vincera_w_and_shell_w_category.copy()\n",
    "\n",
    "Quetelet_relative_idx_t_diam = Quetelet_relative_idx_t_diam.drop(['Total'], axis=1)\n",
    "Quetelet_relative_idx_t_shell_w = Quetelet_relative_idx_t_shell_w.drop(['Total'], axis=1)\n",
    "\n",
    "Quetelet_relative_idx_t_diam['P(Vk)'] = Quetelet_relative_idx_t_diam.sum(axis=1) / Quetelet_relative_idx_t_diam.sum(axis=1).sum()\n",
    "Quetelet_relative_idx_t_shell_w['P(Vk)'] = Quetelet_relative_idx_t_shell_w.sum(axis=1) / Quetelet_relative_idx_t_shell_w.sum(axis=1).sum()\n",
    "\n",
    "Quetelet_relative_idx_t_diam.ix[3,:] = Quetelet_relative_idx_t_diam.sum(axis=0)\n",
    "Quetelet_relative_idx_t_shell_w.ix[3,:] = Quetelet_relative_idx_t_shell_w.sum(axis=0)\n",
    "\n",
    "for i in range(3):\n",
    "    Quetelet_relative_idx_t_diam.ix[i,:-1] /= Quetelet_relative_idx_t_diam.ix[3,:-1]\n",
    "    Quetelet_relative_idx_t_shell_w.ix[i,:-1] /= Quetelet_relative_idx_t_shell_w.ix[3,:-1]\n",
    "\n",
    "\n",
    "# Quetelet calculations\n",
    "for j in range(4):\n",
    "    Quetelet_relative_idx_t_diam.ix[:-1,j] -= Quetelet_relative_idx_t_diam.ix[:-1,4]\n",
    "    Quetelet_relative_idx_t_diam.ix[:-1,j] /= Quetelet_relative_idx_t_diam.ix[:-1,4]\n",
    "    Quetelet_relative_idx_t_shell_w.ix[:-1,j] -= Quetelet_relative_idx_t_shell_w.ix[:-1,4]\n",
    "    Quetelet_relative_idx_t_shell_w.ix[:-1,j] /= Quetelet_relative_idx_t_shell_w.ix[:-1,4]\n",
    "\n",
    "Quetelet_relative_idx_t_diam = Quetelet_relative_idx_t_diam.round(3)\n",
    "Quetelet_relative_idx_t_shell_w = Quetelet_relative_idx_t_shell_w.round(3)\n",
    "Quetelet_relative_idx_t_diam.ix[:-1,:-1]"
   ]
  },
  {
   "cell_type": "markdown",
   "metadata": {},
   "source": [
    "We intrested in the highest positive and negative values in this table. According to Quetelet index table we can say that on average the knowledge of D1 \"adds\" 456.8% to frequency of V1, the knowledge of D4 \"adds\" 377.9% to frequency of V3, similarly. On the other side, the knowledge of D4, for instance, reduces the frequency of V1 by 100%. We can interpret it similarly in other cases, but we intrested in high values most of all. "
   ]
  },
  {
   "cell_type": "code",
   "execution_count": 62,
   "metadata": {
    "collapsed": false
   },
   "outputs": [
    {
     "data": {
      "text/html": [
       "<div>\n",
       "<table border=\"1\" class=\"dataframe\">\n",
       "  <thead>\n",
       "    <tr style=\"text-align: right;\">\n",
       "      <th></th>\n",
       "      <th>S1</th>\n",
       "      <th>S2</th>\n",
       "      <th>S3</th>\n",
       "      <th>S4</th>\n",
       "    </tr>\n",
       "  </thead>\n",
       "  <tbody>\n",
       "    <tr>\n",
       "      <th>V1</th>\n",
       "      <td>2.640</td>\n",
       "      <td>-0.964</td>\n",
       "      <td>-1.000</td>\n",
       "      <td>-0.995</td>\n",
       "    </tr>\n",
       "    <tr>\n",
       "      <th>V2</th>\n",
       "      <td>-0.419</td>\n",
       "      <td>0.544</td>\n",
       "      <td>0.441</td>\n",
       "      <td>-0.399</td>\n",
       "    </tr>\n",
       "    <tr>\n",
       "      <th>V3</th>\n",
       "      <td>-1.000</td>\n",
       "      <td>-0.980</td>\n",
       "      <td>-0.593</td>\n",
       "      <td>2.294</td>\n",
       "    </tr>\n",
       "  </tbody>\n",
       "</table>\n",
       "</div>"
      ],
      "text/plain": [
       "       S1     S2     S3     S4\n",
       "V1  2.640 -0.964 -1.000 -0.995\n",
       "V2 -0.419  0.544  0.441 -0.399\n",
       "V3 -1.000 -0.980 -0.593  2.294"
      ]
     },
     "execution_count": 62,
     "metadata": {},
     "output_type": "execute_result"
    }
   ],
   "source": [
    "Quetelet_relative_idx_t_shell_w.ix[:-1,:-1]"
   ]
  },
  {
   "cell_type": "markdown",
   "metadata": {},
   "source": [
    "According to this table we can say that the knowledge of S1 increases the frequency of V1 by 264% and, e.g. the knowledge of S2 reduces the frequency of V1 by 96.4% and so on."
   ]
  },
  {
   "cell_type": "markdown",
   "metadata": {},
   "source": [
    "Also i computed a summary Quetelet index which is the inner product of two tables that of co-occurrence relative frequency and Quetelet. For Viscera_w-Diam the result is Q = 1.155, it means that on average knowledge of Dl “adds” 115.5% to frequency of Vk. For Viscera_w-Shell_w the result is Q = 0.945, it means that on average knowledge of Sl “adds” 94.5% to frequency of Vk."
   ]
  },
  {
   "cell_type": "code",
   "execution_count": 63,
   "metadata": {
    "collapsed": true
   },
   "outputs": [],
   "source": [
    "# Comp chi-square-summary_quetelet_index over both tables \n",
    "# tables like on slide 37\n",
    "\n",
    "# Observed (relative) frequencies = first table\n",
    "first_table_diam = Vincera_w_and_diam_category.copy()\n",
    "first_table_shell = Vincera_w_and_shell_w_category.copy()\n",
    "first_table_diam /= pass_data.shape[0]\n",
    "first_table_shell /= pass_data.shape[0]\n",
    "first_table_diam = first_table_diam.round(3)\n",
    "first_table_shell = first_table_shell.round(3)\n",
    "\n",
    "# Frequencies expected under independence = second table\n",
    "second_table_diam = first_table_diam.copy()\n",
    "second_table_shell = first_table_shell.copy()\n",
    "for i in range(4):\n",
    "    for j in range(4):\n",
    "        second_table_diam.ix[i, j] = second_table_diam.ix[i,4] * second_table_diam.ix[3,j]\n",
    "        second_table_shell.ix[i, j] = second_table_shell.ix[i,4] * second_table_shell.ix[3,j]\n",
    "\n",
    "second_table_diam = second_table_diam.round(3)\n",
    "second_table_shell = second_table_shell.round(3)"
   ]
  },
  {
   "cell_type": "code",
   "execution_count": 64,
   "metadata": {
    "collapsed": false
   },
   "outputs": [
    {
     "data": {
      "text/html": [
       "<div>\n",
       "<table border=\"1\" class=\"dataframe\">\n",
       "  <thead>\n",
       "    <tr style=\"text-align: right;\">\n",
       "      <th></th>\n",
       "      <th>D1</th>\n",
       "      <th>D2</th>\n",
       "      <th>D3</th>\n",
       "      <th>D4</th>\n",
       "      <th>Total</th>\n",
       "    </tr>\n",
       "  </thead>\n",
       "  <tbody>\n",
       "    <tr>\n",
       "      <th>V1</th>\n",
       "      <td>0.143</td>\n",
       "      <td>0.030</td>\n",
       "      <td>0.000</td>\n",
       "      <td>0.000</td>\n",
       "      <td>0.172</td>\n",
       "    </tr>\n",
       "    <tr>\n",
       "      <th>V2</th>\n",
       "      <td>0.006</td>\n",
       "      <td>0.390</td>\n",
       "      <td>0.236</td>\n",
       "      <td>0.009</td>\n",
       "      <td>0.641</td>\n",
       "    </tr>\n",
       "    <tr>\n",
       "      <th>V3</th>\n",
       "      <td>0.000</td>\n",
       "      <td>0.003</td>\n",
       "      <td>0.111</td>\n",
       "      <td>0.072</td>\n",
       "      <td>0.186</td>\n",
       "    </tr>\n",
       "    <tr>\n",
       "      <th>Total</th>\n",
       "      <td>0.149</td>\n",
       "      <td>0.423</td>\n",
       "      <td>0.348</td>\n",
       "      <td>0.081</td>\n",
       "      <td>1.000</td>\n",
       "    </tr>\n",
       "  </tbody>\n",
       "</table>\n",
       "</div>"
      ],
      "text/plain": [
       "          D1     D2     D3     D4  Total\n",
       "V1     0.143  0.030  0.000  0.000  0.172\n",
       "V2     0.006  0.390  0.236  0.009  0.641\n",
       "V3     0.000  0.003  0.111  0.072  0.186\n",
       "Total  0.149  0.423  0.348  0.081  1.000"
      ]
     },
     "execution_count": 64,
     "metadata": {},
     "output_type": "execute_result"
    }
   ],
   "source": [
    "first_table_diam #relative freq"
   ]
  },
  {
   "cell_type": "code",
   "execution_count": 65,
   "metadata": {
    "collapsed": false
   },
   "outputs": [
    {
     "data": {
      "text/html": [
       "<div>\n",
       "<table border=\"1\" class=\"dataframe\">\n",
       "  <thead>\n",
       "    <tr style=\"text-align: right;\">\n",
       "      <th></th>\n",
       "      <th>S1</th>\n",
       "      <th>S2</th>\n",
       "      <th>S3</th>\n",
       "      <th>S4</th>\n",
       "      <th>Total</th>\n",
       "    </tr>\n",
       "  </thead>\n",
       "  <tbody>\n",
       "    <tr>\n",
       "      <th>V1</th>\n",
       "      <td>0.171</td>\n",
       "      <td>0.001</td>\n",
       "      <td>0.000</td>\n",
       "      <td>0.000</td>\n",
       "      <td>0.172</td>\n",
       "    </tr>\n",
       "    <tr>\n",
       "      <th>V2</th>\n",
       "      <td>0.102</td>\n",
       "      <td>0.193</td>\n",
       "      <td>0.243</td>\n",
       "      <td>0.104</td>\n",
       "      <td>0.641</td>\n",
       "    </tr>\n",
       "    <tr>\n",
       "      <th>V3</th>\n",
       "      <td>0.000</td>\n",
       "      <td>0.001</td>\n",
       "      <td>0.020</td>\n",
       "      <td>0.166</td>\n",
       "      <td>0.186</td>\n",
       "    </tr>\n",
       "    <tr>\n",
       "      <th>Total</th>\n",
       "      <td>0.272</td>\n",
       "      <td>0.195</td>\n",
       "      <td>0.262</td>\n",
       "      <td>0.270</td>\n",
       "      <td>1.000</td>\n",
       "    </tr>\n",
       "  </tbody>\n",
       "</table>\n",
       "</div>"
      ],
      "text/plain": [
       "          S1     S2     S3     S4  Total\n",
       "V1     0.171  0.001  0.000  0.000  0.172\n",
       "V2     0.102  0.193  0.243  0.104  0.641\n",
       "V3     0.000  0.001  0.020  0.166  0.186\n",
       "Total  0.272  0.195  0.262  0.270  1.000"
      ]
     },
     "execution_count": 65,
     "metadata": {},
     "output_type": "execute_result"
    }
   ],
   "source": [
    "first_table_shell #relative freq"
   ]
  },
  {
   "cell_type": "code",
   "execution_count": 66,
   "metadata": {
    "collapsed": false
   },
   "outputs": [
    {
     "data": {
      "text/html": [
       "<div>\n",
       "<table border=\"1\" class=\"dataframe\">\n",
       "  <thead>\n",
       "    <tr style=\"text-align: right;\">\n",
       "      <th></th>\n",
       "      <th>D1</th>\n",
       "      <th>D2</th>\n",
       "      <th>D3</th>\n",
       "      <th>D4</th>\n",
       "      <th>Total</th>\n",
       "    </tr>\n",
       "  </thead>\n",
       "  <tbody>\n",
       "    <tr>\n",
       "      <th>V1</th>\n",
       "      <td>0.026</td>\n",
       "      <td>0.073</td>\n",
       "      <td>0.060</td>\n",
       "      <td>0.014</td>\n",
       "      <td>0.172</td>\n",
       "    </tr>\n",
       "    <tr>\n",
       "      <th>V2</th>\n",
       "      <td>0.096</td>\n",
       "      <td>0.271</td>\n",
       "      <td>0.223</td>\n",
       "      <td>0.052</td>\n",
       "      <td>0.641</td>\n",
       "    </tr>\n",
       "    <tr>\n",
       "      <th>V3</th>\n",
       "      <td>0.028</td>\n",
       "      <td>0.079</td>\n",
       "      <td>0.065</td>\n",
       "      <td>0.015</td>\n",
       "      <td>0.186</td>\n",
       "    </tr>\n",
       "    <tr>\n",
       "      <th>Total</th>\n",
       "      <td>0.149</td>\n",
       "      <td>0.423</td>\n",
       "      <td>0.348</td>\n",
       "      <td>0.081</td>\n",
       "      <td>1.000</td>\n",
       "    </tr>\n",
       "  </tbody>\n",
       "</table>\n",
       "</div>"
      ],
      "text/plain": [
       "          D1     D2     D3     D4  Total\n",
       "V1     0.026  0.073  0.060  0.014  0.172\n",
       "V2     0.096  0.271  0.223  0.052  0.641\n",
       "V3     0.028  0.079  0.065  0.015  0.186\n",
       "Total  0.149  0.423  0.348  0.081  1.000"
      ]
     },
     "execution_count": 66,
     "metadata": {},
     "output_type": "execute_result"
    }
   ],
   "source": [
    "second_table_diam #Frequencies expected under independence"
   ]
  },
  {
   "cell_type": "code",
   "execution_count": 67,
   "metadata": {
    "collapsed": false
   },
   "outputs": [
    {
     "data": {
      "text/html": [
       "<div>\n",
       "<table border=\"1\" class=\"dataframe\">\n",
       "  <thead>\n",
       "    <tr style=\"text-align: right;\">\n",
       "      <th></th>\n",
       "      <th>S1</th>\n",
       "      <th>S2</th>\n",
       "      <th>S3</th>\n",
       "      <th>S4</th>\n",
       "      <th>Total</th>\n",
       "    </tr>\n",
       "  </thead>\n",
       "  <tbody>\n",
       "    <tr>\n",
       "      <th>V1</th>\n",
       "      <td>0.047</td>\n",
       "      <td>0.034</td>\n",
       "      <td>0.045</td>\n",
       "      <td>0.046</td>\n",
       "      <td>0.172</td>\n",
       "    </tr>\n",
       "    <tr>\n",
       "      <th>V2</th>\n",
       "      <td>0.174</td>\n",
       "      <td>0.125</td>\n",
       "      <td>0.168</td>\n",
       "      <td>0.173</td>\n",
       "      <td>0.641</td>\n",
       "    </tr>\n",
       "    <tr>\n",
       "      <th>V3</th>\n",
       "      <td>0.051</td>\n",
       "      <td>0.036</td>\n",
       "      <td>0.049</td>\n",
       "      <td>0.050</td>\n",
       "      <td>0.186</td>\n",
       "    </tr>\n",
       "    <tr>\n",
       "      <th>Total</th>\n",
       "      <td>0.272</td>\n",
       "      <td>0.195</td>\n",
       "      <td>0.262</td>\n",
       "      <td>0.270</td>\n",
       "      <td>1.000</td>\n",
       "    </tr>\n",
       "  </tbody>\n",
       "</table>\n",
       "</div>"
      ],
      "text/plain": [
       "          S1     S2     S3     S4  Total\n",
       "V1     0.047  0.034  0.045  0.046  0.172\n",
       "V2     0.174  0.125  0.168  0.173  0.641\n",
       "V3     0.051  0.036  0.049  0.050  0.186\n",
       "Total  0.272  0.195  0.262  0.270  1.000"
      ]
     },
     "execution_count": 67,
     "metadata": {},
     "output_type": "execute_result"
    }
   ],
   "source": [
    "second_table_shell #Frequencies expected under independence"
   ]
  },
  {
   "cell_type": "code",
   "execution_count": 68,
   "metadata": {
    "collapsed": true
   },
   "outputs": [],
   "source": [
    "# MAke x^2 tables using the formula at slide 37\n",
    "r_k_l_diam_table = pd.DataFrame(columns=['D1', 'D2', 'D3', 'D4'], index=['V1', 'V2', 'V3'])\n",
    "r_k_l_shell_table = pd.DataFrame(columns=['S1', 'S2', 'S3', 'S4'], index=['V1', 'V2', 'V3'])\n",
    "\n",
    "for i in range(3):\n",
    "    for j in range(4):\n",
    "        r_k_l_diam_table.ix[i, j] = ((first_table_diam.ix[i,j] - second_table_diam.ix[i,j]) ** 2) / second_table_diam.ix[i,j]\n",
    "        r_k_l_shell_table.ix[i, j] = ((first_table_shell.ix[i,j] - second_table_shell.ix[i,j]) ** 2) / second_table_shell.ix[i,j]"
   ]
  },
  {
   "cell_type": "code",
   "execution_count": 72,
   "metadata": {
    "collapsed": false
   },
   "outputs": [
    {
     "data": {
      "text/html": [
       "<div>\n",
       "<table border=\"1\" class=\"dataframe\">\n",
       "  <thead>\n",
       "    <tr style=\"text-align: right;\">\n",
       "      <th></th>\n",
       "      <th>D1</th>\n",
       "      <th>D2</th>\n",
       "      <th>D3</th>\n",
       "      <th>D4</th>\n",
       "    </tr>\n",
       "  </thead>\n",
       "  <tbody>\n",
       "    <tr>\n",
       "      <th>V1</th>\n",
       "      <td>0.5265</td>\n",
       "      <td>0.0253288</td>\n",
       "      <td>0.06</td>\n",
       "      <td>0.014</td>\n",
       "    </tr>\n",
       "    <tr>\n",
       "      <th>V2</th>\n",
       "      <td>0.084375</td>\n",
       "      <td>0.0522546</td>\n",
       "      <td>0.000757848</td>\n",
       "      <td>0.0355577</td>\n",
       "    </tr>\n",
       "    <tr>\n",
       "      <th>V3</th>\n",
       "      <td>0.028</td>\n",
       "      <td>0.0731139</td>\n",
       "      <td>0.0325538</td>\n",
       "      <td>0.2166</td>\n",
       "    </tr>\n",
       "  </tbody>\n",
       "</table>\n",
       "</div>"
      ],
      "text/plain": [
       "          D1         D2           D3         D4\n",
       "V1    0.5265  0.0253288         0.06      0.014\n",
       "V2  0.084375  0.0522546  0.000757848  0.0355577\n",
       "V3     0.028  0.0731139    0.0325538     0.2166"
      ]
     },
     "execution_count": 72,
     "metadata": {},
     "output_type": "execute_result"
    }
   ],
   "source": [
    "r_k_l_diam_table"
   ]
  },
  {
   "cell_type": "markdown",
   "metadata": {},
   "source": [
    "Here we can say that if there was a category V1 it adds 52.7% to frequency of D1, also the knowledge about V3 adds 21.66% to frequency of D4. In these tables(this and following one) we mosty interested in big values."
   ]
  },
  {
   "cell_type": "code",
   "execution_count": 73,
   "metadata": {
    "collapsed": false
   },
   "outputs": [
    {
     "data": {
      "text/html": [
       "<div>\n",
       "<table border=\"1\" class=\"dataframe\">\n",
       "  <thead>\n",
       "    <tr style=\"text-align: right;\">\n",
       "      <th></th>\n",
       "      <th>S1</th>\n",
       "      <th>S2</th>\n",
       "      <th>S3</th>\n",
       "      <th>S4</th>\n",
       "    </tr>\n",
       "  </thead>\n",
       "  <tbody>\n",
       "    <tr>\n",
       "      <th>V1</th>\n",
       "      <td>0.327149</td>\n",
       "      <td>0.0320294</td>\n",
       "      <td>0.045</td>\n",
       "      <td>0.046</td>\n",
       "    </tr>\n",
       "    <tr>\n",
       "      <th>V2</th>\n",
       "      <td>0.0297931</td>\n",
       "      <td>0.036992</td>\n",
       "      <td>0.0334821</td>\n",
       "      <td>0.0275202</td>\n",
       "    </tr>\n",
       "    <tr>\n",
       "      <th>V3</th>\n",
       "      <td>0.051</td>\n",
       "      <td>0.0340278</td>\n",
       "      <td>0.0171633</td>\n",
       "      <td>0.26912</td>\n",
       "    </tr>\n",
       "  </tbody>\n",
       "</table>\n",
       "</div>"
      ],
      "text/plain": [
       "           S1         S2         S3         S4\n",
       "V1   0.327149  0.0320294      0.045      0.046\n",
       "V2  0.0297931   0.036992  0.0334821  0.0275202\n",
       "V3      0.051  0.0340278  0.0171633    0.26912"
      ]
     },
     "execution_count": 73,
     "metadata": {},
     "output_type": "execute_result"
    }
   ],
   "source": [
    "r_k_l_shell_table"
   ]
  },
  {
   "cell_type": "markdown",
   "metadata": {},
   "source": [
    "Again, we can say that if there was a category V1 it adds 32.7% to frequency of S1, also the knowledge about V3 adds 26.9% to frequency of D4."
   ]
  },
  {
   "cell_type": "code",
   "execution_count": 75,
   "metadata": {
    "collapsed": false
   },
   "outputs": [
    {
     "name": "stdout",
     "output_type": "stream",
     "text": [
      "X^2 viscera and diam: 1.1490416897152167\n",
      "X^2 viscera and shell: 0.9492768685381106\n"
     ]
    }
   ],
   "source": [
    "# X^2 calc\n",
    "print(\"X^2 viscera and diam:\", r_k_l_diam_table.sum().sum())\n",
    "print(\"X^2 viscera and shell:\", r_k_l_shell_table.sum().sum())"
   ]
  },
  {
   "cell_type": "markdown",
   "metadata": {},
   "source": [
    "Now we can check out some hypothesis of independence of the features with the confidence level of 95%. We have p = min(3-1;4-1) = 2 degrees of freedom. I found the critical point with p=2 and 95% confidence level which is 5.99. Both values of X^2 are located under the critical point, that is why we can accept the hypothesis of independence of viscera and diam and viscera and shell_w on the 95% confidence level."
   ]
  },
  {
   "cell_type": "markdown",
   "metadata": {},
   "source": [
    "<h1 align=\"center\">HA #6 Tabular regression and correlation ratio</h1>"
   ]
  },
  {
   "cell_type": "markdown",
   "metadata": {
    "collapsed": false
   },
   "source": [
    "Now we build a tabular regression using Rings count as a target feature over Diameter and Shell_w"
   ]
  },
  {
   "cell_type": "code",
   "execution_count": 177,
   "metadata": {
    "collapsed": false
   },
   "outputs": [
    {
     "data": {
      "image/png": "[encoded data removed]",
      "text/plain": [
       "<matplotlib.figure.Figure at 0x7fbd3ac5fa20>"
      ]
     },
     "metadata": {},
     "output_type": "display_data"
    }
   ],
   "source": [
    "h = plt.hist(pass_data['Rings'], bins=30)"
   ]
  },
  {
   "cell_type": "code",
   "execution_count": 329,
   "metadata": {
    "collapsed": true
   },
   "outputs": [],
   "source": [
    "rings_threshold = [0, 8, 12, 30]"
   ]
  },
  {
   "cell_type": "code",
   "execution_count": 330,
   "metadata": {
    "collapsed": true
   },
   "outputs": [],
   "source": [
    "tab_regr_rings_diam = pd.DataFrame(columns=['num', 'diam mean', 'diam std'], index=['young', 'mat', 'old', 'Total'])\n",
    "tab_regr_rings_shell_w = pd.DataFrame(columns=['num', 'shell w mean', 'shell w std'], index=['young', 'mat', 'old', 'Total'])\n",
    "\n",
    "for i in range(4): #num\n",
    "    this_group_data = pass_data[(pass_data['Rings'] > rings_threshold[i]) & (pass_data['Rings'] <= rings_threshold[i+1])] if i != 3 else pass_data \n",
    "    \n",
    "    tab_regr_rings_diam.ix[i, 'num'] = this_group_data.shape[0]\n",
    "    tab_regr_rings_shell_w.ix[i, 'num'] = this_group_data.shape[0]\n",
    "    \n",
    "    tab_regr_rings_diam.ix[i, 'diam mean'] = this_group_data['Diameter'].mean()\n",
    "    tab_regr_rings_shell_w.ix[i, 'shell w mean'] = this_group_data['Shell_w'].mean()\n",
    "    \n",
    "    tab_regr_rings_diam.ix[i, 'diam std'] = this_group_data['Diameter'].std()\n",
    "    tab_regr_rings_shell_w.ix[i, 'shell w std'] = this_group_data['Shell_w'].std()\n",
    "    \n",
    "    \n",
    "    "
   ]
  },
  {
   "cell_type": "code",
   "execution_count": 331,
   "metadata": {
    "collapsed": false
   },
   "outputs": [
    {
     "data": {
      "text/html": [
       "<div>\n",
       "<table border=\"1\" class=\"dataframe\">\n",
       "  <thead>\n",
       "    <tr style=\"text-align: right;\">\n",
       "      <th></th>\n",
       "      <th>num</th>\n",
       "      <th>diam mean</th>\n",
       "      <th>diam std</th>\n",
       "    </tr>\n",
       "  </thead>\n",
       "  <tbody>\n",
       "    <tr>\n",
       "      <th>young</th>\n",
       "      <td>1407</td>\n",
       "      <td>0.321276</td>\n",
       "      <td>0.0902919</td>\n",
       "    </tr>\n",
       "    <tr>\n",
       "      <th>mat</th>\n",
       "      <td>2077</td>\n",
       "      <td>0.44799</td>\n",
       "      <td>0.0718845</td>\n",
       "    </tr>\n",
       "    <tr>\n",
       "      <th>old</th>\n",
       "      <td>693</td>\n",
       "      <td>0.463506</td>\n",
       "      <td>0.0647218</td>\n",
       "    </tr>\n",
       "    <tr>\n",
       "      <th>Total</th>\n",
       "      <td>4177</td>\n",
       "      <td>0.407881</td>\n",
       "      <td>0.0992399</td>\n",
       "    </tr>\n",
       "  </tbody>\n",
       "</table>\n",
       "</div>"
      ],
      "text/plain": [
       "        num diam mean   diam std\n",
       "young  1407  0.321276  0.0902919\n",
       "mat    2077   0.44799  0.0718845\n",
       "old     693  0.463506  0.0647218\n",
       "Total  4177  0.407881  0.0992399"
      ]
     },
     "execution_count": 331,
     "metadata": {},
     "output_type": "execute_result"
    }
   ],
   "source": [
    "tab_regr_rings_diam"
   ]
  },
  {
   "cell_type": "code",
   "execution_count": 332,
   "metadata": {
    "collapsed": false
   },
   "outputs": [
    {
     "data": {
      "text/html": [
       "<div>\n",
       "<table border=\"1\" class=\"dataframe\">\n",
       "  <thead>\n",
       "    <tr style=\"text-align: right;\">\n",
       "      <th></th>\n",
       "      <th>num</th>\n",
       "      <th>shell w mean</th>\n",
       "      <th>shell w std</th>\n",
       "    </tr>\n",
       "  </thead>\n",
       "  <tbody>\n",
       "    <tr>\n",
       "      <th>young</th>\n",
       "      <td>1407</td>\n",
       "      <td>0.121394</td>\n",
       "      <td>0.0809648</td>\n",
       "    </tr>\n",
       "    <tr>\n",
       "      <th>mat</th>\n",
       "      <td>2077</td>\n",
       "      <td>0.281119</td>\n",
       "      <td>0.113665</td>\n",
       "    </tr>\n",
       "    <tr>\n",
       "      <th>old</th>\n",
       "      <td>693</td>\n",
       "      <td>0.350519</td>\n",
       "      <td>0.137686</td>\n",
       "    </tr>\n",
       "    <tr>\n",
       "      <th>Total</th>\n",
       "      <td>4177</td>\n",
       "      <td>0.238831</td>\n",
       "      <td>0.139203</td>\n",
       "    </tr>\n",
       "  </tbody>\n",
       "</table>\n",
       "</div>"
      ],
      "text/plain": [
       "        num shell w mean shell w std\n",
       "young  1407     0.121394   0.0809648\n",
       "mat    2077     0.281119    0.113665\n",
       "old     693     0.350519    0.137686\n",
       "Total  4177     0.238831    0.139203"
      ]
     },
     "execution_count": 332,
     "metadata": {},
     "output_type": "execute_result"
    }
   ],
   "source": [
    "tab_regr_rings_shell_w"
   ]
  },
  {
   "cell_type": "code",
   "execution_count": 342,
   "metadata": {
    "collapsed": false
   },
   "outputs": [
    {
     "name": "stdout",
     "output_type": "stream",
     "text": [
      "Correlation ratio Rings/Diameter 38.97 %\n",
      "Correlation ratio Rings/Shell_w 39.22 %\n"
     ]
    }
   ],
   "source": [
    "# let's figure out the correlation ratio over two tabular regressions using formula on page 5 (lecture 6)\n",
    "eta_diam = 1 - ((tab_regr_rings_diam.ix[:-1,0] / tab_regr_rings_diam.ix[-1,0]) * (tab_regr_rings_diam.ix[:-1,-1] ** 2)).sum() / (tab_regr_rings_diam.ix[3,2] ** 2)\n",
    "eta_shell = 1 - ((tab_regr_rings_shell_w.ix[:-1,0] / tab_regr_rings_shell_w.ix[-1,0]) * (tab_regr_rings_shell_w.ix[:-1,-1] ** 2)).sum() / (tab_regr_rings_shell_w.ix[3,2] ** 2)\n",
    "\n",
    "print(\"Correlation ratio Rings/Diameter %.2f\" % (eta_diam * 100), '%')\n",
    "print(\"Correlation ratio Rings/Shell_w %.2f\" % (eta_shell * 100), '%')"
   ]
  },
  {
   "cell_type": "markdown",
   "metadata": {},
   "source": [
    "Here we can say that the variance of Rings drops by 38.97% when Diameter becomes known, and, the variance of Rings drops by 39.22% when Shell_w becomes known.\n",
    "The second table shows the greater correlation. It means that relations are stronger between Rings and Shell_w than between Rings and Diameter."
   ]
  },
  {
   "cell_type": "markdown",
   "metadata": {},
   "source": [
    "<h1 align=\"center\">HA #7 Prediction one binary feature by another one, metrics of accuracy</h1>"
   ]
  },
  {
   "cell_type": "code",
   "execution_count": 15,
   "metadata": {
    "collapsed": false
   },
   "outputs": [
    {
     "data": {
      "image/png": "[encoded data removed]",
      "text/plain": [
       "<matplotlib.figure.Figure at 0x7f0b22ecbc88>"
      ]
     },
     "metadata": {},
     "output_type": "display_data"
    }
   ],
   "source": [
    "#compute hists in order to binarize features (Diameter, Shell_w, Rings) i assume Rings as a target\n",
    "plt.figure(figsize=(10, 10))\n",
    "plt.subplot(221)\n",
    "plt.xlabel(\"Diameter\")\n",
    "bins1 = plt.hist(pass_data['Diameter'], 30, normed=1, facecolor='red', alpha=1)\n",
    "\n",
    "plt.subplot(222)\n",
    "plt.xlabel(\"Shell_w\")\n",
    "bins1 = plt.hist(pass_data['Shell_w'], 30, normed=1, facecolor='red', alpha=1)\n",
    "\n",
    "plt.subplot(223)\n",
    "plt.xlabel(\"Rings\")\n",
    "bins1 = plt.hist(pass_data['Rings'], 30, normed=1, facecolor='red', alpha=1)"
   ]
  },
  {
   "cell_type": "code",
   "execution_count": 188,
   "metadata": {
    "collapsed": false
   },
   "outputs": [],
   "source": [
    "X = pass_data[['Diameter', 'Shell_w', 'Rings']]"
   ]
  },
  {
   "cell_type": "code",
   "execution_count": 189,
   "metadata": {
    "collapsed": false
   },
   "outputs": [
    {
     "data": {
      "text/html": [
       "<div>\n",
       "<table border=\"1\" class=\"dataframe\">\n",
       "  <thead>\n",
       "    <tr style=\"text-align: right;\">\n",
       "      <th></th>\n",
       "      <th>Diameter</th>\n",
       "      <th>Shell_w</th>\n",
       "      <th>Rings</th>\n",
       "    </tr>\n",
       "  </thead>\n",
       "  <tbody>\n",
       "    <tr>\n",
       "      <th>0</th>\n",
       "      <td>0.365</td>\n",
       "      <td>0.15</td>\n",
       "      <td>15</td>\n",
       "    </tr>\n",
       "  </tbody>\n",
       "</table>\n",
       "</div>"
      ],
      "text/plain": [
       "   Diameter  Shell_w  Rings\n",
       "0     0.365     0.15     15"
      ]
     },
     "execution_count": 189,
     "metadata": {},
     "output_type": "execute_result"
    }
   ],
   "source": [
    "X.head(1)"
   ]
  },
  {
   "cell_type": "code",
   "execution_count": 190,
   "metadata": {
    "collapsed": true
   },
   "outputs": [],
   "source": [
    "def binarize_diameter(x):\n",
    "    return 0 if x < 0.46 else 1\n",
    "\n",
    "\n",
    "def binarize_shell_w(x):\n",
    "    return 0 if x < 0.3 else 1\n",
    "\n",
    "\n",
    "def binarize_rings(x):\n",
    "    return 0 if x < 10 else 1"
   ]
  },
  {
   "cell_type": "code",
   "execution_count": 191,
   "metadata": {
    "collapsed": false
   },
   "outputs": [
    {
     "data": {
      "text/html": [
       "<div>\n",
       "<table border=\"1\" class=\"dataframe\">\n",
       "  <thead>\n",
       "    <tr style=\"text-align: right;\">\n",
       "      <th></th>\n",
       "      <th>Diameter</th>\n",
       "      <th>Shell_w</th>\n",
       "      <th>Rings</th>\n",
       "    </tr>\n",
       "  </thead>\n",
       "  <tbody>\n",
       "    <tr>\n",
       "      <th>0</th>\n",
       "      <td>0</td>\n",
       "      <td>0</td>\n",
       "      <td>1</td>\n",
       "    </tr>\n",
       "    <tr>\n",
       "      <th>1</th>\n",
       "      <td>0</td>\n",
       "      <td>0</td>\n",
       "      <td>0</td>\n",
       "    </tr>\n",
       "    <tr>\n",
       "      <th>2</th>\n",
       "      <td>0</td>\n",
       "      <td>0</td>\n",
       "      <td>0</td>\n",
       "    </tr>\n",
       "    <tr>\n",
       "      <th>3</th>\n",
       "      <td>0</td>\n",
       "      <td>0</td>\n",
       "      <td>1</td>\n",
       "    </tr>\n",
       "    <tr>\n",
       "      <th>4</th>\n",
       "      <td>0</td>\n",
       "      <td>0</td>\n",
       "      <td>0</td>\n",
       "    </tr>\n",
       "  </tbody>\n",
       "</table>\n",
       "</div>"
      ],
      "text/plain": [
       "   Diameter  Shell_w  Rings\n",
       "0         0        0      1\n",
       "1         0        0      0\n",
       "2         0        0      0\n",
       "3         0        0      1\n",
       "4         0        0      0"
      ]
     },
     "execution_count": 191,
     "metadata": {},
     "output_type": "execute_result"
    }
   ],
   "source": [
    "X['Diameter'] = X['Diameter'].apply(binarize_diameter) \n",
    "X['Shell_w'] = X['Shell_w'].apply(binarize_shell_w)\n",
    "X['Rings'] = X['Rings'].apply(binarize_rings)\n",
    "X.head(5)"
   ]
  },
  {
   "cell_type": "code",
   "execution_count": 202,
   "metadata": {
    "collapsed": false
   },
   "outputs": [
    {
     "name": "stdout",
     "output_type": "stream",
     "text": [
      "prediction table Rings-Diameter\n",
      " [[1757  339]\n",
      " [ 918 1163]]\n",
      "prediction table Rings-Shell_w\n",
      " [[1881  215]\n",
      " [ 954 1127]]\n",
      "accuracy for diam: 0.699066315537\n",
      "accuracy for shell_w: 0.720134067513\n",
      "precision for diam: 0.774300932091\n",
      "precision for shell_w: 0.839791356185\n",
      "recall for diam: 0.558865929841\n",
      "recall for shell_w: 0.541566554541\n",
      "F1 score for diam: 0.649176667597\n",
      "F1 score for shell_w: 0.658486707566\n"
     ]
    }
   ],
   "source": [
    "# in this task I  use a constant prediction rule y_pred = X to predict target (Rings) by Diameter and Shell_w\n",
    "# next, i build a prediction matrices(or confusion, which is equal) and compute  some accuracy metrices, \n",
    "# including F1-measure and comment on the result\n",
    "\n",
    "# using the constant prediction rule\n",
    "# [[TP, FP],\n",
    "#  [FN, TN]]\n",
    "print(\"prediction table Rings-Diameter\\n\", confusion_matrix(X['Rings'], X['Diameter']))\n",
    "print(\"prediction table Rings-Shell_w\\n\", confusion_matrix(X['Rings'], X['Shell_w']))\n",
    "print(\"accuracy for diam:\", accuracy_score(X['Rings'], X['Diameter']))\n",
    "print(\"accuracy for shell_w:\", accuracy_score(X['Rings'], X['Shell_w']))\n",
    "precision_diam = precision_score(X['Rings'], X['Diameter'])\n",
    "precision_shell = precision_score(X['Rings'], X['Shell_w'])\n",
    "print(\"precision for diam:\", precision_diam)\n",
    "print(\"precision for shell_w:\", precision_shell)\n",
    "recall_diam = recall_score(X['Rings'], X['Diameter'])\n",
    "recall_shell = recall_score(X['Rings'], X['Shell_w'])\n",
    "print(\"recall for diam:\", recall_diam)\n",
    "print(\"recall for shell_w:\", recall_shell)\n",
    "print(\"F1 score for diam:\", 2 * precision_diam * recall_diam / (precision_diam + recall_diam))\n",
    "print(\"F1 score for shell_w:\", 2 * precision_shell * recall_shell / (precision_shell + recall_shell))\n",
    "# [[TP, FP],\n",
    "#  [FN, TN]]"
   ]
  },
  {
   "cell_type": "markdown",
   "metadata": {},
   "source": [
    "Thus, we can see that target feature predicted more accurately by binarized shell_w than by binarized diameter according to F1 score and accuracy.\n",
    "According to the precision score we can see the same situation. It means that by Shell_w we classified as 1-class the most part in truly 1-class targets than by Diameter. Next, according to recall, we found the opposite result. In that case we we classified the most part of 1-class targets by Diameter than by shell_w. So, using the constant prediction rule, we have good results in accuracy and precision in both ways to predict a target, but not so good in recall."
   ]
  },
  {
   "cell_type": "markdown",
   "metadata": {},
   "source": [
    "<h1 align=\"center\">HA #8 K-means clustering</h1>"
   ]
  },
  {
   "cell_type": "code",
   "execution_count": 10,
   "metadata": {
    "collapsed": false
   },
   "outputs": [],
   "source": [
    "# In this cell i wrote a simple class which is doing a version of K-means clustering\n",
    "#c_k - centers array\n",
    "#s_k - indices of items in original dataset which are covered by k-th class \n",
    "class KMeansClustering():\n",
    "    \n",
    "    def __init__(self, c_k, K):\n",
    "        self.c_k = c_k #np.array\n",
    "        self.s_k = [[] for i in range(K)] #indices in each class\n",
    "        self.max_iter = 100\n",
    "        \n",
    "    \n",
    "    def update_sets(self, X):\n",
    "        def get_class(x):\n",
    "            distances = np.array([((c_k_i - x) ** 2).sum() for c_k_i in self.c_k]) \n",
    "            return distances.argmin()\n",
    "            \n",
    "        self.s_k = [[] for i in range(len(self.s_k))]\n",
    "        for idx, item in enumerate(X):\n",
    "            self.s_k[get_class(item)].append(idx)\n",
    "        \n",
    "    \n",
    "        def update_centers(X):\n",
    "            c_k_dump = np.copy(self.c_k)\n",
    "            for i in range(self.c_k.shape[0]):\n",
    "                self.c_k[i] = X[self.s_k[i]].mean(axis=0)\n",
    "            self.c_k = self.c_k.round(4)\n",
    "            \n",
    "            return c_k_dump\n",
    "        \n",
    "        return update_centers(X)\n",
    "        \n",
    "        \n",
    "    def run(self, X): #required X matrix\n",
    "        iterations = 0\n",
    "        while np.count_nonzero(self.update_sets(X) != self.c_k):\n",
    "            iterations += 1\n",
    "            if iterations == self.max_iter:\n",
    "                break\n",
    "        return iterations\n",
    "            \n",
    "        "
   ]
  },
  {
   "cell_type": "code",
   "execution_count": 103,
   "metadata": {
    "collapsed": false
   },
   "outputs": [
    {
     "name": "stdout",
     "output_type": "stream",
     "text": [
      "36\n"
     ]
    },
    {
     "data": {
      "text/plain": [
       "array([[ 0.5717,  0.4477,  0.937 ,  0.2715],\n",
       "       [ 0.4033,  0.3077,  0.3488,  0.1057],\n",
       "       [ 0.6657,  0.5252,  1.5683,  0.4383]])"
      ]
     },
     "execution_count": 103,
     "metadata": {},
     "output_type": "execute_result"
    }
   ],
   "source": [
    "# first of all i apply k = 3,4 and 7 with random generated (from uniform[0,1] distribution) center's initializations \n",
    "# to 4 quantitative features ['Length', 'Diameter', 'Whole_w', 'Shell_w'] from my dataset\n",
    "K = 3\n",
    "KMC = KMeansClustering(c_k=np.random.uniform(size=(K, pass_data[['Length', 'Diameter', 'Whole_w', 'Shell_w']].shape[1])), K=K)\n",
    "print(KMC.run(np.array(pass_data[['Length', 'Diameter', 'Whole_w', 'Shell_w']])))\n",
    "KMC.c_k"
   ]
  },
  {
   "cell_type": "code",
   "execution_count": 97,
   "metadata": {
    "collapsed": false
   },
   "outputs": [
    {
     "name": "stdout",
     "output_type": "stream",
     "text": [
      "23\n"
     ]
    },
    {
     "data": {
      "text/plain": [
       "array([[ 0.6097,  0.4792,  1.1492,  0.3277],\n",
       "       [ 0.5201,  0.4042,  0.6909,  0.2048],\n",
       "       [ 0.3654,  0.2769,  0.2568,  0.0787],\n",
       "       [ 0.6861,  0.5414,  1.7413,  0.4834]])"
      ]
     },
     "execution_count": 97,
     "metadata": {},
     "output_type": "execute_result"
    }
   ],
   "source": [
    "K = 4\n",
    "KMC = KMeansClustering(c_k=np.random.uniform(size=(K, pass_data[['Length', 'Diameter', 'Whole_w', 'Shell_w']].shape[1])), K=K)\n",
    "print(KMC.run(np.array(pass_data[['Length', 'Diameter', 'Whole_w', 'Shell_w']])))\n",
    "KMC.c_k"
   ]
  },
  {
   "cell_type": "code",
   "execution_count": 146,
   "metadata": {
    "collapsed": false
   },
   "outputs": [
    {
     "name": "stdout",
     "output_type": "stream",
     "text": [
      "100\n"
     ]
    },
    {
     "data": {
      "text/plain": [
       "array([[    nan,     nan,     nan,     nan],\n",
       "       [ 0.524 ,  0.4079,  0.8287,  0.2388],\n",
       "       [    nan,     nan,     nan,     nan],\n",
       "       [    nan,     nan,     nan,     nan],\n",
       "       [    nan,     nan,     nan,     nan],\n",
       "       [    nan,     nan,     nan,     nan],\n",
       "       [    nan,     nan,     nan,     nan]])"
      ]
     },
     "execution_count": 146,
     "metadata": {},
     "output_type": "execute_result"
    }
   ],
   "source": [
    "K = 7\n",
    "KMC = KMeansClustering(c_k=np.random.uniform(size=(K, pass_data[['Length', 'Diameter', 'Whole_w', 'Shell_w']].shape[1])), K=K)\n",
    "print(KMC.run(np.array(pass_data[['Length', 'Diameter', 'Whole_w', 'Shell_w']])))\n",
    "KMC.c_k"
   ]
  },
  {
   "cell_type": "markdown",
   "metadata": {},
   "source": [
    "Unfortunately, no one of more than 20 attemts converges with K=7 and randomly initialized centers using my K-means clustering realization. It means that all centers converge into one due to the poorly generated center initializations. So, i try to use KMeans class (it uses more advanced algorithms in centers initialization) which is realized by other programmers in sklearn machine learning python library. "
   ]
  },
  {
   "cell_type": "code",
   "execution_count": 4,
   "metadata": {
    "collapsed": false
   },
   "outputs": [
    {
     "data": {
      "text/plain": [
       "array([[ 0.57019208,  0.44609844,  0.92083613,  0.26888415],\n",
       "       [ 0.66987113,  0.52886598,  1.58727706,  0.44410438],\n",
       "       [ 0.30991497,  0.23118197,  0.15414031,  0.04869983],\n",
       "       [ 0.62178707,  0.48934728,  1.21866984,  0.34473321],\n",
       "       [ 0.43769819,  0.33620306,  0.40242698,  0.12175313],\n",
       "       [ 0.72322314,  0.57004132,  2.10636364,  0.57479752],\n",
       "       [ 0.51258457,  0.39808525,  0.65271448,  0.19429296]])"
      ]
     },
     "execution_count": 4,
     "metadata": {},
     "output_type": "execute_result"
    }
   ],
   "source": [
    "kmeans = KMeans(n_clusters=7, random_state=0).fit(pass_data[['Length', 'Diameter', 'Whole_w', 'Shell_w']])\n",
    "kmeans.cluster_centers_"
   ]
  },
  {
   "cell_type": "code",
   "execution_count": 7,
   "metadata": {
    "collapsed": false
   },
   "outputs": [
    {
     "data": {
      "text/plain": [
       "array([4, 2, 6, ..., 3, 3, 5], dtype=int32)"
      ]
     },
     "execution_count": 7,
     "metadata": {},
     "output_type": "execute_result"
    }
   ],
   "source": [
    "kmeans.labels_"
   ]
  },
  {
   "cell_type": "markdown",
   "metadata": {},
   "source": [
    "In following cells i choose centers manually."
   ]
  },
  {
   "cell_type": "code",
   "execution_count": 147,
   "metadata": {
    "collapsed": false
   },
   "outputs": [
    {
     "name": "stdout",
     "output_type": "stream",
     "text": [
      "28\n"
     ]
    },
    {
     "data": {
      "text/plain": [
       "array([[ 0.4033,  0.3077,  0.3488,  0.1057],\n",
       "       [ 0.6657,  0.5252,  1.5683,  0.4383],\n",
       "       [ 0.5717,  0.4477,  0.937 ,  0.2715]])"
      ]
     },
     "execution_count": 147,
     "metadata": {},
     "output_type": "execute_result"
    }
   ],
   "source": [
    "c_k = np.array([[0, 0, 0, 0],\n",
    "                [1, 1, 1, 1],\n",
    "                [0.5, 0.5, 0.5, 0.5]])\n",
    "K = 3\n",
    "KMC = KMeansClustering(c_k=c_k, K=K)\n",
    "print(KMC.run(np.array(pass_data[['Length', 'Diameter', 'Whole_w', 'Shell_w']])))\n",
    "KMC.c_k"
   ]
  },
  {
   "cell_type": "code",
   "execution_count": 89,
   "metadata": {
    "collapsed": false
   },
   "outputs": [
    {
     "name": "stdout",
     "output_type": "stream",
     "text": [
      "46\n"
     ]
    },
    {
     "data": {
      "text/plain": [
       "array([[ 0.3654,  0.2769,  0.2568,  0.0787],\n",
       "       [ 0.6097,  0.4792,  1.1492,  0.3277],\n",
       "       [ 0.5201,  0.4042,  0.6909,  0.2048],\n",
       "       [ 0.6861,  0.5414,  1.7413,  0.4834]])"
      ]
     },
     "execution_count": 89,
     "metadata": {},
     "output_type": "execute_result"
    }
   ],
   "source": [
    "c_k = np.array([[0, 0, 0, 0],\n",
    "                [1, 1, 1, 1],\n",
    "                [0.5, 0.5, 0.5, 0.5],\n",
    "                [1.2,1.2,1.5,1.2]])\n",
    "K = 4\n",
    "KMC = KMeansClustering(c_k=c_k, K=K)\n",
    "print(KMC.run(np.array(pass_data[['Length', 'Diameter', 'Whole_w', 'Shell_w']])))\n",
    "KMC.c_k"
   ]
  },
  {
   "cell_type": "code",
   "execution_count": 156,
   "metadata": {
    "collapsed": false
   },
   "outputs": [
    {
     "name": "stdout",
     "output_type": "stream",
     "text": [
      "10\n"
     ]
    },
    {
     "data": {
      "text/plain": [
       "array([[    nan,     nan,     nan,     nan],\n",
       "       [ 0.524 ,  0.4079,  0.8287,  0.2388],\n",
       "       [    nan,     nan,     nan,     nan],\n",
       "       [    nan,     nan,     nan,     nan],\n",
       "       [    nan,     nan,     nan,     nan],\n",
       "       [    nan,     nan,     nan,     nan],\n",
       "       [    nan,     nan,     nan,     nan]])"
      ]
     },
     "execution_count": 156,
     "metadata": {},
     "output_type": "execute_result"
    }
   ],
   "source": [
    "#failure\n",
    "c_k = np.array([[0, 0, 0, 0],\n",
    "                [1, 1, 1, 1],\n",
    "                [0.5, 0.5, 0.5, 0.5],\n",
    "                [1.2,1.2,1.5,1.2],\n",
    "                [0.5, 0.1, 2, 0.5],\n",
    "                [0.01, 0.2, 0.4, 0.6],\n",
    "                [0.2, 0.2, 0.2, 0.2]])\n",
    "K = 7\n",
    "KMC = KMeansClustering(c_k=c_k, K=K)\n",
    "KMC.max_iter = 10\n",
    "print(KMC.run(np.array(pass_data[['Length', 'Diameter', 'Whole_w', 'Shell_w']])))\n",
    "KMC.c_k"
   ]
  },
  {
   "cell_type": "markdown",
   "metadata": {},
   "source": [
    "Thus, in case of my dataset, i think, that there is no reason to initialize centers by hands because i can't figure out centers which would probably lead to a convergence of 7-means clustering, while for k=3 and k=4 random and manual initializations work the same. Therefore, random initialization from uniform distribution seems to me as a better choice. \n",
    "\n",
    "What about K-constant...\n",
    "\n",
    "I will compare the results of first three algorithms (my K-means where K is 3 and 4 and sklearn KMenas where K is 7) with random initialization centers. The main idea is to compare the number of \"good\" clusters among algorithms. \"good\" one is the cluster which is very different with respect to grand mean. In this case, we will try to highlight the most intuitive algorithm. Let's see:"
   ]
  },
  {
   "cell_type": "code",
   "execution_count": 83,
   "metadata": {
    "collapsed": false
   },
   "outputs": [
    {
     "name": "stdout",
     "output_type": "stream",
     "text": [
      "The relative difference with center and grand mean in percent at K=3:\n",
      "0 -cluster; k-size 806 ;relative diff from GM [ 27.05  28.76  89.23  83.5 ]\n",
      "1 -cluster; k-size 1737 ;relative diff from GM [  9.11   9.76  13.07  13.68]\n",
      "2 -cluster; k-size 1634 ;relative diff from GM [-23.03 -24.56 -57.91 -55.74]\n",
      "So, there is 2 good clusters in my view.\n"
     ]
    }
   ],
   "source": [
    "grand_mean_vector = np.array(pass_data[['Length', 'Diameter', 'Whole_w', 'Shell_w']].mean())\n",
    "print(\"The relative difference with center and grand mean in percent at K=3:\")\n",
    "for i in range(3): #K=3, random init, my program\n",
    "    print(i, \"-cluster;\", 'k-size', pass_data.ix[KMC.s_k[i],:].shape[0], ';relative diff from GM', ((np.array(pass_data.ix[KMC.s_k[i],:][['Length', 'Diameter', 'Whole_w', 'Shell_w']].mean()) - grand_mean_vector) * 100 / grand_mean_vector).round(2))\n",
    "print(\"So, there is 2 good clusters in my view.\")"
   ]
  },
  {
   "cell_type": "code",
   "execution_count": 79,
   "metadata": {
    "collapsed": false
   },
   "outputs": [
    {
     "name": "stdout",
     "output_type": "stream",
     "text": [
      "The relative difference with center and grand mean in percent at K=4:\n",
      "0 -cluster; k-size 460 ;relative diff from GM [  30.93   32.72  110.11  102.39]\n",
      "1 -cluster; k-size 1264 ;relative diff from GM [ 16.36  17.49  38.64  37.22]\n",
      "2 -cluster; k-size 1335 ;relative diff from GM [ -0.77  -0.92 -16.69 -14.34]\n",
      "3 -cluster; k-size 1118 ;relative diff from GM [-30.3  -32.14 -69.06 -67.08]\n",
      "So, there is 3 good clusters in my view. i mean 0, 1 and 3\n"
     ]
    }
   ],
   "source": [
    "print(\"The relative difference with center and grand mean in percent at K=4:\")\n",
    "for i in range(4): #K=4, random init, my program\n",
    "    print(i, \"-cluster;\", 'k-size', pass_data.ix[KMC.s_k[i],:].shape[0], ';relative diff from GM', ((np.array(pass_data.ix[KMC.s_k[i],:][['Length', 'Diameter', 'Whole_w', 'Shell_w']].mean()) - grand_mean_vector) * 100 / grand_mean_vector).round(2))\n",
    "print(\"So, there is 3 good clusters in my view. i mean 0, 1 and 3\")"
   ]
  },
  {
   "cell_type": "code",
   "execution_count": 77,
   "metadata": {
    "collapsed": false
   },
   "outputs": [
    {
     "name": "stdout",
     "output_type": "stream",
     "text": [
      "The relative difference with center and grand mean in percent at K=7:\n",
      "0 -cluster; k-size 833 ;relative diff from GM [  8.82   9.37  11.11  12.58]\n",
      "1 -cluster; k-size 388 ;relative diff from GM [ 27.84  29.66  91.53  85.95]\n",
      "2 -cluster; k-size 590 ;relative diff from GM [-40.81 -43.28 -81.35 -79.56]\n",
      "3 -cluster; k-size 789 ;relative diff from GM [ 18.66  19.97  47.05  44.34]\n",
      "4 -cluster; k-size 722 ;relative diff from GM [-16.36 -17.48 -51.3  -48.9 ]\n",
      "5 -cluster; k-size 121 ;relative diff from GM [  38.02   39.76  154.16  140.67]\n",
      "6 -cluster; k-size 734 ;relative diff from GM [ -2.15  -2.35 -21.13 -18.51]\n",
      "So, there is 5 good clusters in my view. i mean 1, 2, 3, 4 and 5\n"
     ]
    }
   ],
   "source": [
    "print(\"The relative difference with center and grand mean in percent at K=7:\")\n",
    "for i in range(7): #K=4, random init, sklearn program\n",
    "    print(i, \"-cluster;\", 'k-size', pass_data.ix[kmeans.labels_ == i, :].shape[0], ';relative diff from GM', ((np.array(pass_data.ix[kmeans.labels_ == i, :][['Length', 'Diameter', 'Whole_w', 'Shell_w']].mean()) - grand_mean_vector) * 100 / grand_mean_vector).round(2))\n",
    "print(\"So, there is 5 good clusters in my view. i mean 1, 2, 3, 4 and 5\")"
   ]
  },
  {
   "cell_type": "markdown",
   "metadata": {},
   "source": [
    "According to this analyst, the best choice will be a number equal to 7 clusters. \n",
    "\n",
    "Also i have another idea how to evaluate which K is better. We may check out which K-means clustering gives us more information about the target feature (it's RINGS in my dataset) inside the cluster with the most naive method. let's see"
   ]
  },
  {
   "cell_type": "code",
   "execution_count": 104,
   "metadata": {
    "collapsed": false
   },
   "outputs": [
    {
     "name": "stdout",
     "output_type": "stream",
     "text": [
      "0 -claster; k-size 1737 ;r mean over class  10.8325 ;r std over class  2.8985 ;\n",
      "1 -claster; k-size 1634 ;r mean over class  7.9351 ;r std over class  2.4159 ;\n",
      "2 -claster; k-size 806 ;r mean over class  12.0484 ;r std over class  3.1050 ;\n"
     ]
    }
   ],
   "source": [
    "for i in range(3): #K=3, random init\n",
    "    print(i, \"-claster;\", 'k-size', pass_data.ix[KMC.s_k[i],:].shape[0], ';r mean over class  %.4f' % pass_data.ix[KMC.s_k[i],:]['Rings'].mean(), ';r std over class  %.4f' % pass_data.ix[KMC.s_k[i],:]['Rings'].std(), ';')\n",
    "    "
   ]
  },
  {
   "cell_type": "markdown",
   "metadata": {},
   "source": [
    "It is a nice result! We found 3 clasters with a small, mid and large number of rings like in HW6 where i set up boundaries as rings_threshold = [0, 8, 12, 30]."
   ]
  },
  {
   "cell_type": "code",
   "execution_count": 102,
   "metadata": {
    "collapsed": false
   },
   "outputs": [
    {
     "name": "stdout",
     "output_type": "stream",
     "text": [
      "0 -cluster; k-size 1263 ;r mean over class 11.2605 ;r std over class  2.9377 ;\n",
      "1 -cluster; k-size 1334 ;r mean over class 10.0465 ;r std over class  2.7146 ;\n",
      "2 -cluster; k-size 1120 ;r mean over class 7.2848 ;r std over class  2.1516 ;\n",
      "3 -cluster; k-size 460 ;r mean over class 12.4130 ;r std over class  3.1621 ;\n"
     ]
    }
   ],
   "source": [
    "for i in range(4): #K=4, random init\n",
    "    print(i, \"-cluster;\", 'k-size', pass_data.ix[KMC.s_k[i],:].shape[0], ';r mean over class %.4f' % pass_data.ix[KMC.s_k[i],:]['Rings'].mean(), ';r std over class  %.4f' % pass_data.ix[KMC.s_k[i],:]['Rings'].std(), ';')\n",
    "    "
   ]
  },
  {
   "cell_type": "markdown",
   "metadata": {},
   "source": [
    "So, it's great again! Have a look, now we found an additional cluster which is located between threshold of 10 and 12. Likewise, i have already had an idea to add this cluster (with 11 as mean) looking at the histograms in HW 6.  "
   ]
  },
  {
   "cell_type": "code",
   "execution_count": 100,
   "metadata": {
    "collapsed": false
   },
   "outputs": [
    {
     "name": "stdout",
     "output_type": "stream",
     "text": [
      "0 -cluster; k-size 833 ;r mean over class 10.8896 ;r std over class 2.9270 ;\n",
      "1 -cluster; k-size 388 ;r mean over class 12.2938 ;r std over class 3.1641 ;\n",
      "2 -cluster; k-size 590 ;r mean over class 6.3966 ;r std over class 1.8135 ;\n",
      "3 -cluster; k-size 789 ;r mean over class 11.2510 ;r std over class 2.8415 ;\n",
      "4 -cluster; k-size 722 ;r mean over class 8.5042 ;r std over class 2.1800 ;\n",
      "5 -cluster; k-size 121 ;r mean over class 12.8678 ;r std over class 3.3115 ;\n",
      "6 -cluster; k-size 734 ;r mean over class 9.9510 ;r std over class 2.6574 ;\n"
     ]
    }
   ],
   "source": [
    "for i in range(7): #K=4, random init\n",
    "    print(i, \"-cluster;\", 'k-size', pass_data.ix[kmeans.labels_ == i, :].shape[0], ';r mean over class %.4f' % pass_data.ix[kmeans.labels_ == i, :]['Rings'].mean(), ';r std over class %.4f' % pass_data.ix[kmeans.labels_ == i, :]['Rings'].std(), ';')\n"
   ]
  },
  {
   "cell_type": "markdown",
   "metadata": {},
   "source": [
    "Well, here we can see at least 2 pairs of clusters which are located close to each other according to it's mean (0 and 3 and 1 and 5) which is not good (it's possible to merge them into one), but, generally we have at least 5 good clusters which is more than in previous algorithms. In conclusion, both 3-k and 4-k clustering give a good result, but i prefer the last one because the bigger, the better, when it comes to obtained information. It is good choice in my view, despite the large standard deviation over each cluster. This is why i choose 7-k means clustering with random initializated centers. "
   ]
  }
 ],
 "metadata": {
  "anaconda-cloud": {},
  "kernelspec": {
   "display_name": "Python [Root]",
   "language": "python",
   "name": "Python [Root]"
  },
  "language_info": {
   "codemirror_mode": {
    "name": "ipython",
    "version": 3
   },
   "file_extension": ".py",
   "mimetype": "text/x-python",
   "name": "python",
   "nbconvert_exporter": "python",
   "pygments_lexer": "ipython3",
   "version": "3.5.2"
  }
 },
 "nbformat": 4,
 "nbformat_minor": 1
}
